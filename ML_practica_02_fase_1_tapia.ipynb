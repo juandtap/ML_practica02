{
  "cells": [
    {
      "cell_type": "markdown",
      "metadata": {
        "id": "cdlQOSLzK8gs"
      },
      "source": [
        "![ups logo](https://upload.wikimedia.org/wikipedia/commons/thumb/b/b0/Logo_Universidad_Polit%C3%A9cnica_Salesiana_del_Ecuador.png/640px-Logo_Universidad_Polit%C3%A9cnica_Salesiana_del_Ecuador.png)\n",
        "\n",
        "# Aprendizaje Automático P64\n",
        "\n",
        "# Practica 02\n",
        "\n",
        "\n",
        "## Redes Neuronales Problemas Multiclase y Optimización (fine tunning)\n",
        "\n",
        "## Fase 1: carga, exploración inicial del dataset y entrenamiento del modelo base\n",
        "\n",
        "## Autor: Diego Tapia\n"
      ]
    },
    {
      "cell_type": "markdown",
      "metadata": {
        "id": "g1kaYnaaflfD"
      },
      "source": [
        "## 1. Descripción del dataset\n",
        "\n",
        "\n",
        "\n",
        "**Nombre del Dataset:** CIFAR10\n",
        "\n",
        "**Descripción del dataset CIFAR10**\n",
        "\n",
        "CIFAR-10 es un conjunto de datos utilizado para el reconocimiento de objetos en imágenes. Es uno de los conjuntos de datos más ampliamente utilizados por investigadores, ingenieros, practicantes y aficionados a la visión computarizada y machine learning. CIFAR son las siglas del Canadian Institute for Advanced Research (Jesús, 2020).\n",
        "\n",
        "\n",
        "\n",
        "\n",
        "**Dimensiones:** CIFAR contiene 60000 imágenes\n",
        "\n",
        "Cada imagen es de 32x32pixeles y tienen 3 canales (RGB).\n",
        "\n",
        "Hay 50000 imágenes de entrenamiento y 10000 para testing.\n",
        "\n",
        "Hay 10 categorías, donde cada una está representada por 6000 imágenes.\n",
        "\n",
        "    airplane : 0\n",
        "\n",
        "    automobile : 1\n",
        "\n",
        "    bird : 2\n",
        "\n",
        "    cat : 3\n",
        "\n",
        "    deer : 4\n",
        "\n",
        "    dog : 5\n",
        "\n",
        "    frog : 6\n",
        "\n",
        "    horse : 7\n",
        "\n",
        "    ship : 8\n",
        "\n",
        "    truck : 9\n",
        "\n",
        "\n",
        "URL: \"https://www.cs.toronto.edu/~kriz/cifar-10-python.tar.gz\"\n",
        "\n"
      ]
    },
    {
      "cell_type": "markdown",
      "metadata": {
        "id": "JDDz5rpuD-IF"
      },
      "source": [
        "## 2. Análisis Exploratorio del dataset\n",
        "\n"
      ]
    },
    {
      "cell_type": "markdown",
      "metadata": {
        "id": "O4NCEe6NEcuU"
      },
      "source": [
        "### Carga del dataset desde archivo local"
      ]
    },
    {
      "cell_type": "code",
      "execution_count": 1,
      "metadata": {
        "colab": {
          "base_uri": "https://localhost:8080/"
        },
        "id": "ATCoa0YWRrDi",
        "outputId": "39c7029b-6470-49e0-d1b2-53b881817193"
      },
      "outputs": [
        {
          "name": "stderr",
          "output_type": "stream",
          "text": [
            "x cifar-10-batches-py/\n",
            "x cifar-10-batches-py/data_batch_4\n",
            "x cifar-10-batches-py/readme.html\n",
            "x cifar-10-batches-py/test_batch\n",
            "x cifar-10-batches-py/data_batch_3\n",
            "x cifar-10-batches-py/batches.meta\n",
            "x cifar-10-batches-py/data_batch_2\n",
            "x cifar-10-batches-py/data_batch_5\n",
            "x cifar-10-batches-py/data_batch_1\n"
          ]
        }
      ],
      "source": [
        "\n",
        "# Se descomprime el archivo cargado en Google Drive\n",
        "!tar xzvf ./dataset/cifar-10-python.tar.gz\n"
      ]
    },
    {
      "cell_type": "code",
      "execution_count": 2,
      "metadata": {
        "id": "09GzbJEhx5e8"
      },
      "outputs": [
        {
          "name": "stdout",
          "output_type": "stream",
          "text": [
            "WARNING:tensorflow:From C:\\Users\\juand\\AppData\\Roaming\\Python\\Python311\\site-packages\\keras\\src\\losses.py:2976: The name tf.losses.sparse_softmax_cross_entropy is deprecated. Please use tf.compat.v1.losses.sparse_softmax_cross_entropy instead.\n",
            "\n"
          ]
        }
      ],
      "source": [
        "# instalación e importación de librerías\n",
        "#%pip install six\n",
        "#%pip install scikeras\n",
        "\n",
        "import tarfile\n",
        "from tensorflow.keras.datasets import cifar10\n",
        "from tensorflow.keras.models import Sequential\n",
        "from tensorflow.keras.layers import Dense, Conv2D, MaxPooling2D, Dropout, Flatten\n",
        "from sklearn.model_selection import train_test_split\n",
        "from scikeras.wrappers import KerasClassifier, KerasRegressor\n",
        "from sklearn.model_selection import cross_val_score\n",
        "from sklearn.model_selection import StratifiedKFold\n",
        "from sklearn.model_selection import ShuffleSplit\n",
        "from sklearn.model_selection import GridSearchCV\n",
        "from keras.layers import Dropout\n",
        "\n",
        "import keras\n",
        "from keras.layers import Dense\n",
        "#from keras.models import Sequential\n",
        "from keras.models import model_from_json\n",
        "from keras.models import load_model\n",
        "\n",
        "from sklearn import metrics\n",
        "from sklearn.metrics import confusion_matrix\n",
        "from sklearn.metrics import accuracy_score\n",
        "from sklearn.metrics import precision_score\n",
        "from sklearn.metrics import recall_score\n",
        "from sklearn.metrics import f1_score\n",
        "\n",
        "from sklearn import set_config"
      ]
    },
    {
      "cell_type": "code",
      "execution_count": 3,
      "metadata": {
        "id": "DEOlpI_7GDn7"
      },
      "outputs": [],
      "source": [
        "\n",
        "import numpy as np\n",
        "import matplotlib.pyplot as plt\n",
        "\n",
        "\n",
        "import pickle\n",
        "\n",
        "# Función para indicar el nombre de las categorías\n",
        "def _load_label_names():\n",
        "    \"\"\"\n",
        "    Load the label names from file\n",
        "    \"\"\"\n",
        "    return ['airplane', 'automobile', 'bird', 'cat', 'deer', 'dog', 'frog', 'horse', 'ship', 'truck']\n",
        "\n",
        "# Función para cargar cada batch de imágenes\n",
        "def load_cfar10_batch(cifar10_dataset_folder_path, batch_id):\n",
        "    \"\"\"\n",
        "    Load a batch of the dataset\n",
        "    \"\"\"\n",
        "    with open(cifar10_dataset_folder_path + '/data_batch_' + str(batch_id), mode='rb') as file:\n",
        "        batch = pickle.load(file, encoding='latin1')\n",
        "\n",
        "    #cada batch 10000 imágenes, cada imagen de 32x32x3\n",
        "    features = batch['data'].reshape((len(batch['data']), 3, 32, 32)).transpose(0, 2, 3, 1)\n",
        "    labels = batch['labels']\n",
        "\n",
        "    return features, labels\n",
        "\n",
        "# Función para visualizar una imagen de un batch específico del dataset y presentar sus caracerísticas más relevantes\n",
        "def display_stats(cifar10_dataset_folder_path, batch_id, sample_id):\n",
        "    \"\"\"\n",
        "    Display Stats of the the dataset\n",
        "    \"\"\"\n",
        "    batch_ids = list(range(1, 6))\n",
        "\n",
        "    if batch_id not in batch_ids:\n",
        "        print('Batch Id out of Range. Possible Batch Ids: {}'.format(batch_ids))\n",
        "        return None\n",
        "\n",
        "    features, labels = load_cfar10_batch(cifar10_dataset_folder_path, batch_id)\n",
        "\n",
        "    if not (0 <= sample_id < len(features)):\n",
        "        print('{} samples in batch {}.  {} is out of range.'.format(len(features), batch_id, sample_id))\n",
        "        return None\n",
        "\n",
        "    print('\\nEstadísticas del batch {}:'.format(batch_id))\n",
        "    print('Samples (cantidad de imágenes): {}'.format(len(features)))\n",
        "    print('Cantidad de Etiquetas: {}'.format(dict(zip(*np.unique(labels, return_counts=True)))))\n",
        "    print('Primeras 20 Etiquetas: {}'.format(labels[:20]))\n",
        "\n",
        "    sample_image = features[sample_id]\n",
        "    sample_label = labels[sample_id]\n",
        "    label_names = _load_label_names()\n",
        "\n",
        "    print('\\nImagen #{}:'.format(sample_id))\n",
        "    print('Imagen - Valor Min: {} Valor Max: {}'.format(sample_image.min(), sample_image.max()))\n",
        "    print('Imagen - Dimensiones: {}'.format(sample_image.shape))\n",
        "    print('Etiqueta - Etiqueta Id: {} Nombre: {}'.format(sample_label, label_names[sample_label]))\n",
        "    #plt.axis('off')\n",
        "    plt.title(\"Figura 1: Imagen de muestra del Dataset\")\n",
        "    plt.imshow(sample_image)\n",
        "\n"
      ]
    },
    {
      "cell_type": "markdown",
      "metadata": {
        "id": "C4RHIfZlJnXH"
      },
      "source": [
        "### Exploracion del dataset\n",
        "\n",
        "Se muestra una de las imágenes del dataset, del lote 1 (Categoría: dog) y sus características"
      ]
    },
    {
      "cell_type": "code",
      "execution_count": 4,
      "metadata": {
        "colab": {
          "base_uri": "https://localhost:8080/",
          "height": 626
        },
        "id": "gXIIzx4pJ9pE",
        "outputId": "ecb45446-1e36-4df4-d634-97421a621991"
      },
      "outputs": [
        {
          "name": "stdout",
          "output_type": "stream",
          "text": [
            "\n",
            "Estadísticas del batch 4:\n",
            "Samples (cantidad de imágenes): 10000\n",
            "Cantidad de Etiquetas: {0: 1003, 1: 963, 2: 1041, 3: 976, 4: 1004, 5: 1021, 6: 1004, 7: 981, 8: 1024, 9: 983}\n",
            "Primeras 20 Etiquetas: [0, 6, 0, 2, 7, 2, 1, 2, 4, 1, 5, 6, 6, 3, 1, 3, 5, 5, 8, 1]\n",
            "\n",
            "Imagen #3000:\n",
            "Imagen - Valor Min: 21 Valor Max: 248\n",
            "Imagen - Dimensiones: (32, 32, 3)\n",
            "Etiqueta - Etiqueta Id: 0 Nombre: airplane\n"
          ]
        },
        {
          "data": {
            "image/png": "[encoded data removed]",
            "text/plain": [
              "<Figure size 640x480 with 1 Axes>"
            ]
          },
          "metadata": {},
          "output_type": "display_data"
        }
      ],
      "source": [
        "batch_id = 4\n",
        "sample_id = 3000\n",
        "cifar10_dataset_folder_path='cifar-10-batches-py'\n",
        "display_stats(cifar10_dataset_folder_path, batch_id, sample_id)"
      ]
    },
    {
      "cell_type": "markdown",
      "metadata": {
        "id": "MKd-H8NiXLQU"
      },
      "source": [
        "Como se puede observar en la Figura 1, las dimensiones son 32x32 con 3 canales, para usar estas imagenes en una red neuronal, debemos tranformar esa dimensión a un solo valor."
      ]
    },
    {
      "cell_type": "markdown",
      "metadata": {
        "id": "xiTp6JuxIFWS"
      },
      "source": [
        "## Carga del dataset desde libreria\n",
        "\n",
        "Se puede cargar el dataset completo desde una la libreria de Keras.datasets usando el metodo:\n",
        "\n",
        " ```cifar10.load_data()```\n",
        "\n",
        "\n",
        "El dataset se carga directamente, en los conjuntos de Training (50000) y Testing (10000): X_train, X_test, y_train, y_test"
      ]
    },
    {
      "cell_type": "code",
      "execution_count": 5,
      "metadata": {
        "colab": {
          "base_uri": "https://localhost:8080/"
        },
        "id": "VdsNmFTvIInG",
        "outputId": "f9b63653-6dea-40cc-d076-ddc50fc2a4a0"
      },
      "outputs": [],
      "source": [
        "from tensorflow.keras.datasets import cifar10\n",
        "cifar10.load_data()\n",
        "(X_train, y_train), (X_test, y_test) = cifar10.load_data()\n"
      ]
    },
    {
      "cell_type": "markdown",
      "metadata": {
        "id": "QCv_pvLpzcXc"
      },
      "source": [
        "### Análisis de frecuencia de categorías\n",
        "\n",
        "Aunque ya se conoce que se tienen 10 categorías con 6000 imágenes cada una,\n",
        "a partir de los conjuntos de entrenamiento y testing, podemos realizar un análisis de frecuencias de las categorías del dataset."
      ]
    },
    {
      "cell_type": "code",
      "execution_count": 6,
      "metadata": {
        "colab": {
          "base_uri": "https://localhost:8080/",
          "height": 472
        },
        "id": "MeP6PtRlzb1t",
        "outputId": "54ba6488-bd85-41d8-b2de-e968d7c78312"
      },
      "outputs": [
        {
          "data": {
            "image/png": "[encoded data removed]",
            "text/plain": [
              "<Figure size 640x480 with 1 Axes>"
            ]
          },
          "metadata": {},
          "output_type": "display_data"
        }
      ],
      "source": [
        "import matplotlib.pyplot as plt\n",
        "from collections import Counter\n",
        "Y=y_train.flatten().tolist()\n",
        "Y.extend(y_test.flatten().tolist())\n",
        "\n",
        "# Utiliza Counter para contar las frecuencias de los elementos en la lista\n",
        "frecuencias = Counter(Y)\n",
        "\n",
        "# Separa las claves (elementos) y los valores (frecuencias) en listas separadas\n",
        "elementos = list(frecuencias.keys())\n",
        "frecuencias = list(frecuencias.values())\n",
        "\n",
        "# Crea un gráfico de barras\n",
        "plt.bar(elementos, frecuencias)\n",
        "\n",
        "# Etiquetas y título\n",
        "plt.xlabel('Categorías')\n",
        "plt.ylabel('Frecuencia')\n",
        "plt.title('Gráfico de Frecuencia')\n",
        "\n",
        "# Establece las etiquetas del eje X\n",
        "plt.xticks(elementos)\n",
        "\n",
        "# Muestra el gráfico\n",
        "plt.show()"
      ]
    },
    {
      "cell_type": "markdown",
      "metadata": {
        "id": "-6ITmbLLTFlX"
      },
      "source": [
        "## 3. Desarrollo, entrenamiento y optimización (fine tunning) de una Red Neuronal para clasificación multiclase usando el dataset CIFAR10"
      ]
    },
    {
      "cell_type": "markdown",
      "metadata": {
        "id": "JaShd9UlTg1r"
      },
      "source": [
        "### Desarrollo y entrenamiento de Modelo Base de la Red Neuronal"
      ]
    },
    {
      "cell_type": "markdown",
      "metadata": {
        "id": "8mlA_gGozpts"
      },
      "source": [
        "#### Normalización\n"
      ]
    },
    {
      "cell_type": "code",
      "execution_count": 7,
      "metadata": {
        "colab": {
          "base_uri": "https://localhost:8080/"
        },
        "id": "6OOQvR2BzqqE",
        "outputId": "246fae44-90b8-4604-d540-1557fb1b19a8"
      },
      "outputs": [
        {
          "name": "stdout",
          "output_type": "stream",
          "text": [
            "Normalización lista!\n",
            "x: 89\n",
            "x': 0.34901960784313724\n"
          ]
        }
      ],
      "source": [
        "# Normalizamos tanto X_train como X_test, en este caso de forma sencilla porque los valores de los pixeles van de 0 a 255.\n",
        "x_train = X_train/255\n",
        "x_test = X_test/255\n",
        "print(\"Normalización lista!\")\n",
        "\n",
        "#Ejemplo para verificar\n",
        "print('x:',X_test[9999,1,1,1])\n",
        "print(\"\"\"x':\"\"\",x_test[9999,1,1,1])"
      ]
    },
    {
      "cell_type": "markdown",
      "metadata": {
        "id": "mgVCv_Eiz_rc"
      },
      "source": [
        "#### Transformación\n",
        "\n",
        "Cada imagen es de 32x32pixeles y tiene 3 canales. Cada fila (imagen) de CIFAR10 es de 3072 columnas. 32pixeles x 32pixeles x 3canales = 3072 características"
      ]
    },
    {
      "cell_type": "code",
      "execution_count": 8,
      "metadata": {
        "colab": {
          "base_uri": "https://localhost:8080/"
        },
        "id": "u8klpd0vzths",
        "outputId": "e0022bce-45e8-4cf1-a4e3-37ddf94a96bc"
      },
      "outputs": [
        {
          "name": "stdout",
          "output_type": "stream",
          "text": [
            "(50000, 3072)\n",
            "(10000, 3072)\n"
          ]
        }
      ],
      "source": [
        "#Para transformar X en estructura clásica de ML (2D) para aplicar técnicas como SVM, Redes Neuronales Densas, KNN, etc.\n",
        "X_trainReshapeImageRow=x_train.reshape((x_train.shape[0],3072))\n",
        "print(X_trainReshapeImageRow.shape)\n",
        "X_testReshapeImageRow=x_test.reshape((x_test.shape[0],3072))\n",
        "print(X_testReshapeImageRow.shape)"
      ]
    },
    {
      "cell_type": "markdown",
      "metadata": {
        "id": "NBCHBph0Vfj1"
      },
      "source": [
        "#### Descripción de una imagen transformada para usar en un modelo de Red Neuronal"
      ]
    },
    {
      "cell_type": "code",
      "execution_count": 9,
      "metadata": {
        "colab": {
          "base_uri": "https://localhost:8080/",
          "height": 539
        },
        "id": "Umv7DYx1V1rK",
        "outputId": "61ddadf4-6731-4ffd-ad4e-6e3976f26c20"
      },
      "outputs": [
        {
          "name": "stdout",
          "output_type": "stream",
          "text": [
            "\n",
            "Imagen 3000:\n",
            "Imagen - Valor Min: 0.1411764705882353 Valor Max: 1.0\n",
            "Imagen - Shape: (3072,)\n",
            "Etiqueta - Etiqueta Id: 3 Nombre: cat\n"
          ]
        },
        {
          "data": {
            "image/png": "[encoded data removed]",
            "text/plain": [
              "<Figure size 640x480 with 1 Axes>"
            ]
          },
          "metadata": {},
          "output_type": "display_data"
        }
      ],
      "source": [
        "# Función para visualizar y describir una imagen específica\n",
        "\n",
        "def display_stats_2(sample_id):\n",
        "    features, labels = X_trainReshapeImageRow, y_train\n",
        "    sample_image = features[sample_id]\n",
        "    sample_label = labels[sample_id][0]\n",
        "    label_names = _load_label_names()\n",
        "    print('\\nImagen {}:'.format(sample_id))\n",
        "    print('Imagen - Valor Min: {} Valor Max: {}'.format(sample_image.min(), sample_image.max()))\n",
        "    print('Imagen - Shape: {}'.format(sample_image.shape))\n",
        "    print('Etiqueta - Etiqueta Id: {} Nombre: {}'.format(sample_label, label_names[sample_label]))\n",
        "    #plt.axis('off')\n",
        "    imagen=sample_image.reshape(32, 32, 3)#.transpose(1, 2, 0)\n",
        "    plt.title(\"Figura 2: Imagen transformada para usar en una red neuronal\")\n",
        "    plt.imshow(imagen)\n",
        "    #cv.imwrite('imagen.jpg', imagen)\n",
        "sample_id = 3000\n",
        "display_stats_2(sample_id)"
      ]
    },
    {
      "cell_type": "markdown",
      "metadata": {
        "id": "lpPqpA0I0KEo"
      },
      "source": [
        "En la imagen de la figura 2, en su descripción podemos ver que la dimensión (shape), es ahora solo un valor, 3072 que corresponde al número de características (columnas) de cada imagen (fila)"
      ]
    },
    {
      "cell_type": "markdown",
      "metadata": {
        "id": "lrG6SusGUvzt"
      },
      "source": [
        "#### Modelo base de la Red Neuronal"
      ]
    },
    {
      "cell_type": "code",
      "execution_count": 10,
      "metadata": {
        "colab": {
          "base_uri": "https://localhost:8080/",
          "height": 293
        },
        "id": "cTZg0opz0Eus",
        "outputId": "bd18eb64-8e8d-4ee9-aacc-9ffd9c18d0ec"
      },
      "outputs": [
        {
          "name": "stdout",
          "output_type": "stream",
          "text": [
            "WARNING:tensorflow:From C:\\Users\\juand\\AppData\\Roaming\\Python\\Python311\\site-packages\\keras\\src\\backend.py:873: The name tf.get_default_graph is deprecated. Please use tf.compat.v1.get_default_graph instead.\n",
            "\n",
            "WARNING:tensorflow:From C:\\Users\\juand\\AppData\\Roaming\\Python\\Python311\\site-packages\\keras\\src\\optimizers\\__init__.py:309: The name tf.train.Optimizer is deprecated. Please use tf.compat.v1.train.Optimizer instead.\n",
            "\n",
            "modelo base creado\n",
            "Cantidad de pasos:  1\n",
            "Model: \"sequential\"\n",
            "_________________________________________________________________\n",
            " Layer (type)                Output Shape              Param #   \n",
            "=================================================================\n",
            " dense (Dense)               (None, 32)                98336     \n",
            "                                                                 \n",
            " dense_1 (Dense)             (None, 10)                330       \n",
            "                                                                 \n",
            "=================================================================\n",
            "Total params: 98666 (385.41 KB)\n",
            "Trainable params: 98666 (385.41 KB)\n",
            "Non-trainable params: 0 (0.00 Byte)\n",
            "_________________________________________________________________\n"
          ]
        }
      ],
      "source": [
        "from sklearn.pipeline import Pipeline\n",
        "\n",
        "# Se define el modelo base\n",
        "def create_model():\n",
        "\n",
        "\n",
        "  model = Sequential([\n",
        "      Dense(32, input_dim=X_trainReshapeImageRow.shape[1], activation='relu'),\n",
        "      Dense(10, activation='softmax')\n",
        "  ])\n",
        "  #compilamos el modelo\n",
        "  model.compile(loss='sparse_categorical_crossentropy',\n",
        "              optimizer='adam',\n",
        "              metrics=['accuracy'])\n",
        "\n",
        "  return model\n",
        "\n",
        "\n",
        "modelo_base = create_model()\n",
        "\n",
        "\n",
        "\n",
        "print(\"modelo base creado\")\n",
        "\n",
        "pipe = Pipeline(\n",
        "    steps=[]\n",
        ")\n",
        "pipe.steps.append(['modelNN', modelo_base])\n",
        "print(\"Cantidad de pasos: \",len(pipe.steps))\n",
        "\n",
        "#Mostrar el resumen de la arquitectura de la red neuronal.\n",
        "pipe.named_steps['modelNN'].summary()"
      ]
    },
    {
      "cell_type": "markdown",
      "metadata": {
        "id": "K7TYOUFJ1GfN"
      },
      "source": [
        "### Entrenamiento modelo base\n",
        "\n",
        "Se realiza el entrenamiento del modelo base, con un batch_size de 32 y el numero de epocas en 10"
      ]
    },
    {
      "cell_type": "code",
      "execution_count": 11,
      "metadata": {
        "colab": {
          "base_uri": "https://localhost:8080/",
          "height": 450
        },
        "id": "Skt6W5K51IAl",
        "outputId": "92c18237-f607-45ff-f685-024a7123f621"
      },
      "outputs": [
        {
          "name": "stdout",
          "output_type": "stream",
          "text": [
            "Epoch 1/10\n",
            "WARNING:tensorflow:From C:\\Users\\juand\\AppData\\Roaming\\Python\\Python311\\site-packages\\keras\\src\\utils\\tf_utils.py:492: The name tf.ragged.RaggedTensorValue is deprecated. Please use tf.compat.v1.ragged.RaggedTensorValue instead.\n",
            "\n",
            "WARNING:tensorflow:From C:\\Users\\juand\\AppData\\Roaming\\Python\\Python311\\site-packages\\keras\\src\\engine\\base_layer_utils.py:384: The name tf.executing_eagerly_outside_functions is deprecated. Please use tf.compat.v1.executing_eagerly_outside_functions instead.\n",
            "\n",
            "1563/1563 [==============================] - 5s 3ms/step - loss: 2.0589 - accuracy: 0.2048\n",
            "Epoch 2/10\n",
            "1563/1563 [==============================] - 4s 3ms/step - loss: 1.9760 - accuracy: 0.2521\n",
            "Epoch 3/10\n",
            "1563/1563 [==============================] - 4s 3ms/step - loss: 1.9515 - accuracy: 0.2570\n",
            "Epoch 4/10\n",
            "1563/1563 [==============================] - 4s 3ms/step - loss: 1.9361 - accuracy: 0.2648\n",
            "Epoch 5/10\n",
            "1563/1563 [==============================] - 4s 3ms/step - loss: 1.8863 - accuracy: 0.2957\n",
            "Epoch 6/10\n",
            "1563/1563 [==============================] - 4s 3ms/step - loss: 1.8735 - accuracy: 0.3031\n",
            "Epoch 7/10\n",
            "1563/1563 [==============================] - 4s 3ms/step - loss: 1.8637 - accuracy: 0.3103\n",
            "Epoch 8/10\n",
            "1563/1563 [==============================] - 4s 3ms/step - loss: 1.8567 - accuracy: 0.3161\n",
            "Epoch 9/10\n",
            "1563/1563 [==============================] - 4s 3ms/step - loss: 1.8505 - accuracy: 0.3194\n",
            "Epoch 10/10\n",
            "1563/1563 [==============================] - 4s 3ms/step - loss: 1.8453 - accuracy: 0.3216\n"
          ]
        },
        {
          "data": {
            "text/html": [
              "<style>#sk-container-id-1 {color: black;}#sk-container-id-1 pre{padding: 0;}#sk-container-id-1 div.sk-toggleable {background-color: white;}#sk-container-id-1 label.sk-toggleable__label {cursor: pointer;display: block;width: 100%;margin-bottom: 0;padding: 0.3em;box-sizing: border-box;text-align: center;}#sk-container-id-1 label.sk-toggleable__label-arrow:before {content: \"▸\";float: left;margin-right: 0.25em;color: #696969;}#sk-container-id-1 label.sk-toggleable__label-arrow:hover:before {color: black;}#sk-container-id-1 div.sk-estimator:hover label.sk-toggleable__label-arrow:before {color: black;}#sk-container-id-1 div.sk-toggleable__content {max-height: 0;max-width: 0;overflow: hidden;text-align: left;background-color: #f0f8ff;}#sk-container-id-1 div.sk-toggleable__content pre {margin: 0.2em;color: black;border-radius: 0.25em;background-color: #f0f8ff;}#sk-container-id-1 input.sk-toggleable__control:checked~div.sk-toggleable__content {max-height: 200px;max-width: 100%;overflow: auto;}#sk-container-id-1 input.sk-toggleable__control:checked~label.sk-toggleable__label-arrow:before {content: \"▾\";}#sk-container-id-1 div.sk-estimator input.sk-toggleable__control:checked~label.sk-toggleable__label {background-color: #d4ebff;}#sk-container-id-1 div.sk-label input.sk-toggleable__control:checked~label.sk-toggleable__label {background-color: #d4ebff;}#sk-container-id-1 input.sk-hidden--visually {border: 0;clip: rect(1px 1px 1px 1px);clip: rect(1px, 1px, 1px, 1px);height: 1px;margin: -1px;overflow: hidden;padding: 0;position: absolute;width: 1px;}#sk-container-id-1 div.sk-estimator {font-family: monospace;background-color: #f0f8ff;border: 1px dotted black;border-radius: 0.25em;box-sizing: border-box;margin-bottom: 0.5em;}#sk-container-id-1 div.sk-estimator:hover {background-color: #d4ebff;}#sk-container-id-1 div.sk-parallel-item::after {content: \"\";width: 100%;border-bottom: 1px solid gray;flex-grow: 1;}#sk-container-id-1 div.sk-label:hover label.sk-toggleable__label {background-color: #d4ebff;}#sk-container-id-1 div.sk-serial::before {content: \"\";position: absolute;border-left: 1px solid gray;box-sizing: border-box;top: 0;bottom: 0;left: 50%;z-index: 0;}#sk-container-id-1 div.sk-serial {display: flex;flex-direction: column;align-items: center;background-color: white;padding-right: 0.2em;padding-left: 0.2em;position: relative;}#sk-container-id-1 div.sk-item {position: relative;z-index: 1;}#sk-container-id-1 div.sk-parallel {display: flex;align-items: stretch;justify-content: center;background-color: white;position: relative;}#sk-container-id-1 div.sk-item::before, #sk-container-id-1 div.sk-parallel-item::before {content: \"\";position: absolute;border-left: 1px solid gray;box-sizing: border-box;top: 0;bottom: 0;left: 50%;z-index: -1;}#sk-container-id-1 div.sk-parallel-item {display: flex;flex-direction: column;z-index: 1;position: relative;background-color: white;}#sk-container-id-1 div.sk-parallel-item:first-child::after {align-self: flex-end;width: 50%;}#sk-container-id-1 div.sk-parallel-item:last-child::after {align-self: flex-start;width: 50%;}#sk-container-id-1 div.sk-parallel-item:only-child::after {width: 0;}#sk-container-id-1 div.sk-dashed-wrapped {border: 1px dashed gray;margin: 0 0.4em 0.5em 0.4em;box-sizing: border-box;padding-bottom: 0.4em;background-color: white;}#sk-container-id-1 div.sk-label label {font-family: monospace;font-weight: bold;display: inline-block;line-height: 1.2em;}#sk-container-id-1 div.sk-label-container {text-align: center;}#sk-container-id-1 div.sk-container {/* jupyter's `normalize.less` sets `[hidden] { display: none; }` but bootstrap.min.css set `[hidden] { display: none !important; }` so we also need the `!important` here to be able to override the default hidden behavior on the sphinx rendered scikit-learn.org. See: https://github.com/scikit-learn/scikit-learn/issues/21755 */display: inline-block !important;position: relative;}#sk-container-id-1 div.sk-text-repr-fallback {display: none;}</style><div id=\"sk-container-id-1\" class=\"sk-top-container\"><div class=\"sk-text-repr-fallback\"><pre>Pipeline(steps=[[&#x27;modelNN&#x27;,\n",
              "                 &lt;keras.src.engine.sequential.Sequential object at 0x0000021CE5938B90&gt;]])</pre><b>In a Jupyter environment, please rerun this cell to show the HTML representation or trust the notebook. <br />On GitHub, the HTML representation is unable to render, please try loading this page with nbviewer.org.</b></div><div class=\"sk-container\" hidden><div class=\"sk-item sk-dashed-wrapped\"><div class=\"sk-label-container\"><div class=\"sk-label sk-toggleable\"><input class=\"sk-toggleable__control sk-hidden--visually\" id=\"sk-estimator-id-1\" type=\"checkbox\" ><label for=\"sk-estimator-id-1\" class=\"sk-toggleable__label sk-toggleable__label-arrow\">Pipeline</label><div class=\"sk-toggleable__content\"><pre>Pipeline(steps=[[&#x27;modelNN&#x27;,\n",
              "                 &lt;keras.src.engine.sequential.Sequential object at 0x0000021CE5938B90&gt;]])</pre></div></div></div><div class=\"sk-serial\"><div class=\"sk-item\"><div class=\"sk-estimator sk-toggleable\"><input class=\"sk-toggleable__control sk-hidden--visually\" id=\"sk-estimator-id-2\" type=\"checkbox\" ><label for=\"sk-estimator-id-2\" class=\"sk-toggleable__label sk-toggleable__label-arrow\">Sequential</label><div class=\"sk-toggleable__content\"><pre>&lt;keras.src.engine.sequential.Sequential object at 0x0000021CE5938B90&gt;</pre></div></div></div></div></div></div></div>"
            ],
            "text/plain": [
              "Pipeline(steps=[['modelNN',\n",
              "                 <keras.src.engine.sequential.Sequential object at 0x0000021CE5938B90>]])"
            ]
          },
          "execution_count": 11,
          "metadata": {},
          "output_type": "execute_result"
        }
      ],
      "source": [
        "\n",
        "size_batch = 32\n",
        "epocas = 10\n",
        "pipe.fit(X_trainReshapeImageRow, y_train, modelNN__batch_size= size_batch, modelNN__epochs=epocas, modelNN__verbose=1)\n",
        "\n"
      ]
    },
    {
      "cell_type": "markdown",
      "metadata": {
        "id": "wz9ecf601gv9"
      },
      "source": [
        "### Evaluación del modelo base"
      ]
    },
    {
      "cell_type": "code",
      "execution_count": 12,
      "metadata": {
        "colab": {
          "base_uri": "https://localhost:8080/",
          "height": 554
        },
        "id": "hFFW5TZQ7B-u",
        "outputId": "daeda8c4-bafd-4150-9870-1a420a18c301"
      },
      "outputs": [
        {
          "name": "stdout",
          "output_type": "stream",
          "text": [
            "313/313 [==============================] - 1s 2ms/step\n",
            "y_pred antes del aplanado\n",
            "      airplane  automobile      bird       cat      deer       dog      frog  \\\n",
            "9997  0.023075    0.014907  0.129138  0.233925  0.102453  0.277745  0.144775   \n",
            "9998  0.035710    0.051583  0.130429  0.198475  0.112051  0.185181  0.140906   \n",
            "9999  0.057487    0.012971  0.208707  0.080251  0.198849  0.090570  0.053175   \n",
            "\n",
            "         horse      ship     truck  \n",
            "9997  0.051624  0.014829  0.007528  \n",
            "9998  0.083060  0.028868  0.033737  \n",
            "9999  0.259724  0.017921  0.020346  \n"
          ]
        },
        {
          "data": {
            "text/html": [
              "<div>\n",
              "<style scoped>\n",
              "    .dataframe tbody tr th:only-of-type {\n",
              "        vertical-align: middle;\n",
              "    }\n",
              "\n",
              "    .dataframe tbody tr th {\n",
              "        vertical-align: top;\n",
              "    }\n",
              "\n",
              "    .dataframe thead th {\n",
              "        text-align: right;\n",
              "    }\n",
              "</style>\n",
              "<table border=\"1\" class=\"dataframe\">\n",
              "  <thead>\n",
              "    <tr style=\"text-align: right;\">\n",
              "      <th></th>\n",
              "      <th>real</th>\n",
              "      <th>predicción</th>\n",
              "    </tr>\n",
              "  </thead>\n",
              "  <tbody>\n",
              "    <tr>\n",
              "      <th>0</th>\n",
              "      <td>3</td>\n",
              "      <td>5</td>\n",
              "    </tr>\n",
              "    <tr>\n",
              "      <th>1</th>\n",
              "      <td>8</td>\n",
              "      <td>1</td>\n",
              "    </tr>\n",
              "    <tr>\n",
              "      <th>2</th>\n",
              "      <td>8</td>\n",
              "      <td>8</td>\n",
              "    </tr>\n",
              "    <tr>\n",
              "      <th>3</th>\n",
              "      <td>0</td>\n",
              "      <td>0</td>\n",
              "    </tr>\n",
              "    <tr>\n",
              "      <th>4</th>\n",
              "      <td>6</td>\n",
              "      <td>2</td>\n",
              "    </tr>\n",
              "    <tr>\n",
              "      <th>5</th>\n",
              "      <td>6</td>\n",
              "      <td>6</td>\n",
              "    </tr>\n",
              "    <tr>\n",
              "      <th>6</th>\n",
              "      <td>1</td>\n",
              "      <td>3</td>\n",
              "    </tr>\n",
              "    <tr>\n",
              "      <th>7</th>\n",
              "      <td>6</td>\n",
              "      <td>6</td>\n",
              "    </tr>\n",
              "    <tr>\n",
              "      <th>8</th>\n",
              "      <td>3</td>\n",
              "      <td>5</td>\n",
              "    </tr>\n",
              "    <tr>\n",
              "      <th>9</th>\n",
              "      <td>1</td>\n",
              "      <td>1</td>\n",
              "    </tr>\n",
              "  </tbody>\n",
              "</table>\n",
              "</div>"
            ],
            "text/plain": [
              "   real  predicción\n",
              "0     3           5\n",
              "1     8           1\n",
              "2     8           8\n",
              "3     0           0\n",
              "4     6           2\n",
              "5     6           6\n",
              "6     1           3\n",
              "7     6           6\n",
              "8     3           5\n",
              "9     1           1"
            ]
          },
          "execution_count": 12,
          "metadata": {},
          "output_type": "execute_result"
        }
      ],
      "source": [
        "#Predicciones con el conjunto de Test\n",
        "import pandas as pd\n",
        "#y_pred = modelo_base.predict(X_testReshapeImageRow)\n",
        "y_pred = pipe.predict(X_testReshapeImageRow)\n",
        "\n",
        "print(\"y_pred antes del aplanado\")\n",
        "y_pred_df = pd.DataFrame(y_pred, columns=['airplane', 'automobile', 'bird', 'cat', 'deer', 'dog', 'frog', 'horse', 'ship', 'truck'])\n",
        "print(y_pred_df.tail(3))\n",
        "#argmax identifica el valor máximo para determinar la categoría\n",
        "y_pred = np.argmax(y_pred, axis=-1)\n",
        "\n",
        "y_pred = y_pred.flatten()\n",
        "y_test_f = y_test.flatten()\n",
        "\n",
        "dataframeFinal=pd.DataFrame({'real':y_test_f, 'predicción': y_pred})\n",
        "np.set_printoptions(formatter={'float': lambda X: \"{0:0.0f}\".format(X)})\n",
        "dataframeFinal.head(10)"
      ]
    },
    {
      "cell_type": "code",
      "execution_count": 13,
      "metadata": {
        "colab": {
          "base_uri": "https://localhost:8080/",
          "height": 960
        },
        "id": "Hom9rW85loS9",
        "outputId": "2973c808-12c5-4b4b-e9b5-e13eb85ac820"
      },
      "outputs": [
        {
          "name": "stdout",
          "output_type": "stream",
          "text": [
            "Accuracy  Precision  Recall  F1-score\n",
            "0.3197    0.3154    0.3197    0.3175\n"
          ]
        },
        {
          "data": {
            "image/png": "[encoded data removed]",
            "text/plain": [
              "<Figure size 1200x1000 with 2 Axes>"
            ]
          },
          "metadata": {},
          "output_type": "display_data"
        }
      ],
      "source": [
        "# Calcular metricas de evaluacion\n",
        "import numpy as np\n",
        "import matplotlib.pyplot as plt\n",
        "from sklearn.metrics import confusion_matrix\n",
        "import seaborn as sns\n",
        "\n",
        "def evaluar_modelo(y_test, y_pred):\n",
        "  # Calcular la matriz de confusión\n",
        "  conf_matrix = confusion_matrix(y_test, y_pred)\n",
        "\n",
        "  # Calcular las métricas de evaluación a partir de la matriz de confusión\n",
        "  tp = np.diag(conf_matrix)\n",
        "  fp = np.sum(conf_matrix, axis=0) - tp\n",
        "  fn = np.sum(conf_matrix, axis=1) - tp\n",
        "\n",
        "  accuracy = np.mean(tp / (tp + fn))\n",
        "  precision = np.mean(tp / (tp + fp))\n",
        "  recall = np.mean(tp / (tp + fn))\n",
        "  f1 = 2 * precision * recall / (precision + recall)\n",
        "\n",
        "  # Imprimir resultados\n",
        "  print(\"Accuracy  Precision  Recall  F1-score\")\n",
        "  print(f\"{accuracy:.4f}    {precision:.4f}    {recall:.4f}    {f1:.4f}\")\n",
        "\n",
        "  # Crear el plot de la matriz de confusión\n",
        "  plt.figure(figsize=(12, 10))\n",
        "  sns.heatmap(conf_matrix, annot=True, fmt='d', cmap='coolwarm')\n",
        "\n",
        "  # Añadir etiquetas y título\n",
        "  plt.xlabel('categorías predecidas')\n",
        "  plt.ylabel('categorías reales')\n",
        "  plt.xticks(np.arange(conf_matrix.shape[0])+0.5, labels=_load_label_names(),rotation=45, ha=\"right\")\n",
        "  plt.yticks(np.arange(conf_matrix.shape[1])+0.5, labels=_load_label_names())\n",
        "  plt.title('Figura 3: Matriz de confusión modelo base')\n",
        "\n",
        "  # Mostrar el plot\n",
        "  plt.show()\n",
        "\n",
        "evaluar_modelo(y_test, y_pred)\n",
        "\n",
        "\n"
      ]
    },
    {
      "cell_type": "markdown",
      "metadata": {
        "id": "ngyupfbK0_oi"
      },
      "source": [
        "En la figura 3 podemos observar que la categoria con mas imagenes clasificadas correctamente por el modelo base de red neuronal es \"frog\" (rana) con 504 verdaderos positivos. Tambien podemos observar un **accuracy de &#8776; 0.32**"
      ]
    },
    {
      "cell_type": "code",
      "execution_count": 14,
      "metadata": {},
      "outputs": [
        {
          "name": "stdout",
          "output_type": "stream",
          "text": [
            "INFO:tensorflow:Assets written to: C:\\Users\\juand\\AppData\\Local\\Temp\\tmporqt9r5h\\assets\n"
          ]
        },
        {
          "name": "stderr",
          "output_type": "stream",
          "text": [
            "INFO:tensorflow:Assets written to: C:\\Users\\juand\\AppData\\Local\\Temp\\tmporqt9r5h\\assets\n"
          ]
        },
        {
          "data": {
            "text/plain": [
              "['pipeline_NN_trained.pkl']"
            ]
          },
          "execution_count": 14,
          "metadata": {},
          "output_type": "execute_result"
        }
      ],
      "source": [
        "# Se guarda el pipeline\n",
        "import joblib\n",
        "ruta_archivo_pipe = 'pipeline_NN_trained.pkl'\n",
        "joblib.dump(pipe, ruta_archivo_pipe)\n"
      ]
    },
    {
      "cell_type": "code",
      "execution_count": 15,
      "metadata": {},
      "outputs": [
        {
          "name": "stdout",
          "output_type": "stream",
          "text": [
            "WARNING:tensorflow:From C:\\Users\\juand\\AppData\\Roaming\\Python\\Python311\\site-packages\\keras\\src\\saving\\legacy\\saved_model\\load.py:107: The name tf.gfile.Exists is deprecated. Please use tf.io.gfile.exists instead.\n",
            "\n"
          ]
        },
        {
          "name": "stderr",
          "output_type": "stream",
          "text": [
            "WARNING:tensorflow:From C:\\Users\\juand\\AppData\\Roaming\\Python\\Python311\\site-packages\\keras\\src\\saving\\legacy\\saved_model\\load.py:107: The name tf.gfile.Exists is deprecated. Please use tf.io.gfile.exists instead.\n",
            "\n"
          ]
        },
        {
          "data": {
            "text/html": [
              "<style>#sk-container-id-2 {color: black;}#sk-container-id-2 pre{padding: 0;}#sk-container-id-2 div.sk-toggleable {background-color: white;}#sk-container-id-2 label.sk-toggleable__label {cursor: pointer;display: block;width: 100%;margin-bottom: 0;padding: 0.3em;box-sizing: border-box;text-align: center;}#sk-container-id-2 label.sk-toggleable__label-arrow:before {content: \"▸\";float: left;margin-right: 0.25em;color: #696969;}#sk-container-id-2 label.sk-toggleable__label-arrow:hover:before {color: black;}#sk-container-id-2 div.sk-estimator:hover label.sk-toggleable__label-arrow:before {color: black;}#sk-container-id-2 div.sk-toggleable__content {max-height: 0;max-width: 0;overflow: hidden;text-align: left;background-color: #f0f8ff;}#sk-container-id-2 div.sk-toggleable__content pre {margin: 0.2em;color: black;border-radius: 0.25em;background-color: #f0f8ff;}#sk-container-id-2 input.sk-toggleable__control:checked~div.sk-toggleable__content {max-height: 200px;max-width: 100%;overflow: auto;}#sk-container-id-2 input.sk-toggleable__control:checked~label.sk-toggleable__label-arrow:before {content: \"▾\";}#sk-container-id-2 div.sk-estimator input.sk-toggleable__control:checked~label.sk-toggleable__label {background-color: #d4ebff;}#sk-container-id-2 div.sk-label input.sk-toggleable__control:checked~label.sk-toggleable__label {background-color: #d4ebff;}#sk-container-id-2 input.sk-hidden--visually {border: 0;clip: rect(1px 1px 1px 1px);clip: rect(1px, 1px, 1px, 1px);height: 1px;margin: -1px;overflow: hidden;padding: 0;position: absolute;width: 1px;}#sk-container-id-2 div.sk-estimator {font-family: monospace;background-color: #f0f8ff;border: 1px dotted black;border-radius: 0.25em;box-sizing: border-box;margin-bottom: 0.5em;}#sk-container-id-2 div.sk-estimator:hover {background-color: #d4ebff;}#sk-container-id-2 div.sk-parallel-item::after {content: \"\";width: 100%;border-bottom: 1px solid gray;flex-grow: 1;}#sk-container-id-2 div.sk-label:hover label.sk-toggleable__label {background-color: #d4ebff;}#sk-container-id-2 div.sk-serial::before {content: \"\";position: absolute;border-left: 1px solid gray;box-sizing: border-box;top: 0;bottom: 0;left: 50%;z-index: 0;}#sk-container-id-2 div.sk-serial {display: flex;flex-direction: column;align-items: center;background-color: white;padding-right: 0.2em;padding-left: 0.2em;position: relative;}#sk-container-id-2 div.sk-item {position: relative;z-index: 1;}#sk-container-id-2 div.sk-parallel {display: flex;align-items: stretch;justify-content: center;background-color: white;position: relative;}#sk-container-id-2 div.sk-item::before, #sk-container-id-2 div.sk-parallel-item::before {content: \"\";position: absolute;border-left: 1px solid gray;box-sizing: border-box;top: 0;bottom: 0;left: 50%;z-index: -1;}#sk-container-id-2 div.sk-parallel-item {display: flex;flex-direction: column;z-index: 1;position: relative;background-color: white;}#sk-container-id-2 div.sk-parallel-item:first-child::after {align-self: flex-end;width: 50%;}#sk-container-id-2 div.sk-parallel-item:last-child::after {align-self: flex-start;width: 50%;}#sk-container-id-2 div.sk-parallel-item:only-child::after {width: 0;}#sk-container-id-2 div.sk-dashed-wrapped {border: 1px dashed gray;margin: 0 0.4em 0.5em 0.4em;box-sizing: border-box;padding-bottom: 0.4em;background-color: white;}#sk-container-id-2 div.sk-label label {font-family: monospace;font-weight: bold;display: inline-block;line-height: 1.2em;}#sk-container-id-2 div.sk-label-container {text-align: center;}#sk-container-id-2 div.sk-container {/* jupyter's `normalize.less` sets `[hidden] { display: none; }` but bootstrap.min.css set `[hidden] { display: none !important; }` so we also need the `!important` here to be able to override the default hidden behavior on the sphinx rendered scikit-learn.org. See: https://github.com/scikit-learn/scikit-learn/issues/21755 */display: inline-block !important;position: relative;}#sk-container-id-2 div.sk-text-repr-fallback {display: none;}</style><div id=\"sk-container-id-2\" class=\"sk-top-container\"><div class=\"sk-text-repr-fallback\"><pre>Pipeline(steps=[[&#x27;modelNN&#x27;,\n",
              "                 &lt;keras.src.engine.sequential.Sequential object at 0x0000021D5B3D7F90&gt;]])</pre><b>In a Jupyter environment, please rerun this cell to show the HTML representation or trust the notebook. <br />On GitHub, the HTML representation is unable to render, please try loading this page with nbviewer.org.</b></div><div class=\"sk-container\" hidden><div class=\"sk-item sk-dashed-wrapped\"><div class=\"sk-label-container\"><div class=\"sk-label sk-toggleable\"><input class=\"sk-toggleable__control sk-hidden--visually\" id=\"sk-estimator-id-3\" type=\"checkbox\" ><label for=\"sk-estimator-id-3\" class=\"sk-toggleable__label sk-toggleable__label-arrow\">Pipeline</label><div class=\"sk-toggleable__content\"><pre>Pipeline(steps=[[&#x27;modelNN&#x27;,\n",
              "                 &lt;keras.src.engine.sequential.Sequential object at 0x0000021D5B3D7F90&gt;]])</pre></div></div></div><div class=\"sk-serial\"><div class=\"sk-item\"><div class=\"sk-estimator sk-toggleable\"><input class=\"sk-toggleable__control sk-hidden--visually\" id=\"sk-estimator-id-4\" type=\"checkbox\" ><label for=\"sk-estimator-id-4\" class=\"sk-toggleable__label sk-toggleable__label-arrow\">Sequential</label><div class=\"sk-toggleable__content\"><pre>&lt;keras.src.engine.sequential.Sequential object at 0x0000021D5B3D7F90&gt;</pre></div></div></div></div></div></div></div>"
            ],
            "text/plain": [
              "Pipeline(steps=[['modelNN',\n",
              "                 <keras.src.engine.sequential.Sequential object at 0x0000021D5B3D7F90>]])"
            ]
          },
          "execution_count": 15,
          "metadata": {},
          "output_type": "execute_result"
        }
      ],
      "source": [
        "# carga de pipeline con red neuronal entrenada\n",
        "ruta_archivo_pipe = 'pipeline_NN_trained.pkl'\n",
        "pipe = joblib.load(ruta_archivo_pipe)\n",
        "pipe\n",
        "\n",
        "\n"
      ]
    },
    {
      "cell_type": "markdown",
      "metadata": {
        "id": "hHl5BpIB7QBV"
      },
      "source": [
        "### Entrenamiento y evaluación del modelo base usando K-fold\n",
        "\n",
        "\n",
        "Se divide el conjunto de testing en 5 \"folds\" para aplicar la \"validación cruzada\""
      ]
    },
    {
      "cell_type": "code",
      "execution_count": 16,
      "metadata": {
        "colab": {
          "base_uri": "https://localhost:8080/"
        },
        "id": "2cISN0__7TBG",
        "outputId": "d4d181d5-0100-4bb0-92c5-82ca093ae10a"
      },
      "outputs": [
        {
          "name": "stdout",
          "output_type": "stream",
          "text": [
            "Scores:\n",
            "0.26816666666666666\n",
            "0.31616666666666665\n",
            "0.30716666666666664\n",
            "0.18916666666666668\n",
            "0.0965\n",
            "Accuracy de Modelo Base:  0.23543333333333333\n"
          ]
        }
      ],
      "source": [
        "from sklearn.metrics import make_scorer\n",
        "from sklearn.model_selection import cross_val_score\n",
        "from sklearn.model_selection import ShuffleSplit\n",
        "from scikeras.wrappers import KerasClassifier\n",
        "#from scikeras.wrappers import KerasTransformer\n",
        "\n",
        "#kfold es la configuración de validación K-Fold Cross-Validation\n",
        "numFolds=5\n",
        "kfold = ShuffleSplit(n_splits=numFolds)\n",
        "# Crear un wrapper KerasTransformer para tu modelo de Keras\n",
        "estimator = KerasClassifier(build_fn=create_model, epochs=10, batch_size=32, verbose=0)\n",
        "\n",
        "pipe.steps.pop()\n",
        "pipe.steps.append(['modelNN', estimator])\n",
        "\n",
        "# Se carga en Y la variables de salida del dataset\n",
        "# Concatenar las etiquetas de entrenamiento y prueba en una sola variable \"Y\"\n",
        "Y = np.concatenate((y_train, y_test), axis=0)\n",
        "# Se carga en Xt los conjuntos de entrenamiento y testing convertidos\n",
        "Xt = np.concatenate((X_trainReshapeImageRow, X_testReshapeImageRow), axis=0)\n",
        "# Se aplica kfolding en el modelo base\n",
        "#n_jobs es para ocupar mas de un procesador. El parámetro -1 indica que se utilizarán todos los procesadores disponibles\n",
        "cvs=cross_val_score(pipe, Xt, Y, cv=kfold, n_jobs=6)\n",
        "\n",
        "print(\"Scores:\")# accuracy\n",
        "for i in range(numFolds):\n",
        "    print(cvs[i])\n",
        "print(\"Accuracy de Modelo Base: \", cvs.mean())\n",
        "accuracyModeloBase = cvs.mean()\n",
        "\n"
      ]
    },
    {
      "cell_type": "code",
      "execution_count": 17,
      "metadata": {},
      "outputs": [
        {
          "data": {
            "text/plain": [
              "['pipeline_NN_trained_Kfold5.pkl']"
            ]
          },
          "execution_count": 17,
          "metadata": {},
          "output_type": "execute_result"
        }
      ],
      "source": [
        "# guardar pipe entrenado con kfold=5\n",
        "ruta_archivo_pipe = 'pipeline_NN_trained_Kfold5.pkl'\n",
        "joblib.dump(pipe, ruta_archivo_pipe)"
      ]
    },
    {
      "cell_type": "markdown",
      "metadata": {},
      "source": [
        "### Comparación de resultados de entrenamiento\n",
        "\n",
        "#### Tabla 1. Comparacion de resultados del entrenamiento con el modelo base (red neuronal)\n",
        "|                    | ACC  | precision | recall | f1 score |\n",
        "|---------------------------|------|-----------|--------|----------|\n",
        "| sin kfold                 | **0.3197** | 0.3154       | 0.3197    | 0.3195 |\n",
        "| con kfold=5   (media)     | **0.2354** | n\\a      | n\\a   | n\\a      |\n",
        "\n",
        "\n"
      ]
    },
    {
      "cell_type": "markdown",
      "metadata": {},
      "source": [
        "## Conclusiones\n",
        "\n",
        "\n",
        "\n",
        "La validación cruzada o \"k-fold cross-validation\" no siempre garantiza una mejora en el accuracy de un modelo. Podemos decir que la validación cruzada se utiliza principalmente para evaluar el rendimiento, evitar el \"overfiting\" y estimar cómo se generaliza ante datos no vistos.\n",
        "\n",
        "\n",
        "\n",
        "Hay que recalcar que en esta práctica se usó un modelo de Red neuronal con el fin de obtener un modelo base y buscar la optimización (fine tunning) del mismo por motivos de aprendizaje. Para trabajar con imágenes una red neuronal no es la mejor opción, lo mejor es usar una red neuronal convolucional que se adapta mejora a las imágenes sin necesidad de convertirlas a una sola dimensión como se hizo para la red neuronal."
      ]
    },
    {
      "cell_type": "markdown",
      "metadata": {
        "id": "ZX5f3KTQDWHp"
      },
      "source": [
        "## Referencias\n",
        "\n",
        "Jesús. (2020, July 1). ¿Qué es CIFAR-10? DataSmarts Español. https://datasmarts.net/es/que-es-cifar-10/\n",
        "\n",
        "Ortiz, I. R. H., PhD. (2023a, December 23). Deep Learning - Redes Neuronales Convolucionales (CNN) - Clasificación de Imágenes con CIFAR10 - GenSciNet. GenSciNet. https://genscinet.com/deep-learning-cnn-cifar10/\n",
        "\n",
        "Ortiz, I. R. H., PhD. (2023b, December 23). Preparación de datos: análisis exploratorio - GenSciNet. GenSciNet. https://genscinet.com/analisis-exploratorio/\n",
        "\n"
      ]
    }
  ],
  "metadata": {
    "accelerator": "GPU",
    "colab": {
      "gpuType": "T4",
      "provenance": []
    },
    "kernelspec": {
      "display_name": "Python 3",
      "name": "python3"
    },
    "language_info": {
      "codemirror_mode": {
        "name": "ipython",
        "version": 3
      },
      "file_extension": ".py",
      "mimetype": "text/x-python",
      "name": "python",
      "nbconvert_exporter": "python",
      "pygments_lexer": "ipython3",
      "version": "3.11.5"
    }
  },
  "nbformat": 4,
  "nbformat_minor": 0
}
