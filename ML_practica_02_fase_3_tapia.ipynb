{
  "nbformat": 4,
  "nbformat_minor": 0,
  "metadata": {
    "colab": {
      "provenance": [],
      "gpuType": "T4"
    },
    "kernelspec": {
      "name": "python3",
      "display_name": "Python 3"
    },
    "language_info": {
      "name": "python"
    },
    "accelerator": "GPU"
  },
  "cells": [
    {
      "cell_type": "markdown",
      "source": [
        "![ups logo](https://upload.wikimedia.org/wikipedia/commons/thumb/b/b0/Logo_Universidad_Polit%C3%A9cnica_Salesiana_del_Ecuador.png/640px-Logo_Universidad_Polit%C3%A9cnica_Salesiana_del_Ecuador.png)\n",
        "\n",
        "# Aprendizaje Automático P64\n",
        "\n",
        "# Practica 02\n",
        "\n",
        "\n",
        "## Redes Neuronales Problemas Multiclase y Optimización (fine tunning)\n",
        "\n",
        "## Fase 3: Evaluación y predicción del modelo optimizado\n",
        "\n",
        "## Autor: Diego Tapia"
      ],
      "metadata": {
        "id": "yCHRG_fI608V"
      }
    },
    {
      "cell_type": "markdown",
      "source": [
        "### Importación de librerias"
      ],
      "metadata": {
        "id": "8sJTKVGj8vNM"
      }
    },
    {
      "cell_type": "code",
      "execution_count": 1,
      "metadata": {
        "colab": {
          "base_uri": "https://localhost:8080/"
        },
        "id": "_XX2pA8P57dx",
        "outputId": "868569b2-ad12-421c-a266-8b852cf45cee"
      },
      "outputs": [
        {
          "output_type": "stream",
          "name": "stdout",
          "text": [
            "Collecting scikeras\n",
            "  Downloading scikeras-0.13.0-py3-none-any.whl (26 kB)\n",
            "Collecting keras>=3.2.0 (from scikeras)\n",
            "  Downloading keras-3.3.3-py3-none-any.whl (1.1 MB)\n",
            "\u001b[2K     \u001b[90m━━━━━━━━━━━━━━━━━━━━━━━━━━━━━━━━━━━━━━━━\u001b[0m \u001b[32m1.1/1.1 MB\u001b[0m \u001b[31m12.5 MB/s\u001b[0m eta \u001b[36m0:00:00\u001b[0m\n",
            "\u001b[?25hCollecting scikit-learn>=1.4.2 (from scikeras)\n",
            "  Downloading scikit_learn-1.4.2-cp310-cp310-manylinux_2_17_x86_64.manylinux2014_x86_64.whl (12.1 MB)\n",
            "\u001b[2K     \u001b[90m━━━━━━━━━━━━━━━━━━━━━━━━━━━━━━━━━━━━━━━━\u001b[0m \u001b[32m12.1/12.1 MB\u001b[0m \u001b[31m45.3 MB/s\u001b[0m eta \u001b[36m0:00:00\u001b[0m\n",
            "\u001b[?25hRequirement already satisfied: absl-py in /usr/local/lib/python3.10/dist-packages (from keras>=3.2.0->scikeras) (1.4.0)\n",
            "Requirement already satisfied: numpy in /usr/local/lib/python3.10/dist-packages (from keras>=3.2.0->scikeras) (1.25.2)\n",
            "Requirement already satisfied: rich in /usr/local/lib/python3.10/dist-packages (from keras>=3.2.0->scikeras) (13.7.1)\n",
            "Collecting namex (from keras>=3.2.0->scikeras)\n",
            "  Downloading namex-0.0.8-py3-none-any.whl (5.8 kB)\n",
            "Requirement already satisfied: h5py in /usr/local/lib/python3.10/dist-packages (from keras>=3.2.0->scikeras) (3.9.0)\n",
            "Collecting optree (from keras>=3.2.0->scikeras)\n",
            "  Downloading optree-0.11.0-cp310-cp310-manylinux_2_17_x86_64.manylinux2014_x86_64.whl (311 kB)\n",
            "\u001b[2K     \u001b[90m━━━━━━━━━━━━━━━━━━━━━━━━━━━━━━━━━━━━━━━━\u001b[0m \u001b[32m311.2/311.2 kB\u001b[0m \u001b[31m14.0 MB/s\u001b[0m eta \u001b[36m0:00:00\u001b[0m\n",
            "\u001b[?25hRequirement already satisfied: ml-dtypes in /usr/local/lib/python3.10/dist-packages (from keras>=3.2.0->scikeras) (0.2.0)\n",
            "Requirement already satisfied: scipy>=1.6.0 in /usr/local/lib/python3.10/dist-packages (from scikit-learn>=1.4.2->scikeras) (1.11.4)\n",
            "Requirement already satisfied: joblib>=1.2.0 in /usr/local/lib/python3.10/dist-packages (from scikit-learn>=1.4.2->scikeras) (1.4.0)\n",
            "Requirement already satisfied: threadpoolctl>=2.0.0 in /usr/local/lib/python3.10/dist-packages (from scikit-learn>=1.4.2->scikeras) (3.4.0)\n",
            "Requirement already satisfied: typing-extensions>=4.0.0 in /usr/local/lib/python3.10/dist-packages (from optree->keras>=3.2.0->scikeras) (4.11.0)\n",
            "Requirement already satisfied: markdown-it-py>=2.2.0 in /usr/local/lib/python3.10/dist-packages (from rich->keras>=3.2.0->scikeras) (3.0.0)\n",
            "Requirement already satisfied: pygments<3.0.0,>=2.13.0 in /usr/local/lib/python3.10/dist-packages (from rich->keras>=3.2.0->scikeras) (2.16.1)\n",
            "Requirement already satisfied: mdurl~=0.1 in /usr/local/lib/python3.10/dist-packages (from markdown-it-py>=2.2.0->rich->keras>=3.2.0->scikeras) (0.1.2)\n",
            "Installing collected packages: namex, optree, scikit-learn, keras, scikeras\n",
            "  Attempting uninstall: scikit-learn\n",
            "    Found existing installation: scikit-learn 1.2.2\n",
            "    Uninstalling scikit-learn-1.2.2:\n",
            "      Successfully uninstalled scikit-learn-1.2.2\n",
            "  Attempting uninstall: keras\n",
            "    Found existing installation: keras 2.15.0\n",
            "    Uninstalling keras-2.15.0:\n",
            "      Successfully uninstalled keras-2.15.0\n",
            "\u001b[31mERROR: pip's dependency resolver does not currently take into account all the packages that are installed. This behaviour is the source of the following dependency conflicts.\n",
            "tensorflow 2.15.0 requires keras<2.16,>=2.15.0, but you have keras 3.3.3 which is incompatible.\u001b[0m\u001b[31m\n",
            "\u001b[0mSuccessfully installed keras-3.3.3 namex-0.0.8 optree-0.11.0 scikeras-0.13.0 scikit-learn-1.4.2\n",
            "Módulos y clases importados\n"
          ]
        }
      ],
      "source": [
        "%pip install scikeras\n",
        "\n",
        "import pandas as pd\n",
        "import numpy as np\n",
        "import matplotlib.pyplot as plt\n",
        "\n",
        "from time import time\n",
        "from datetime import datetime, timedelta\n",
        "\n",
        "from sklearn.impute import SimpleImputer\n",
        "from sklearn.preprocessing import OneHotEncoder, StandardScaler, OrdinalEncoder, MinMaxScaler\n",
        "from sklearn.compose import make_column_transformer, ColumnTransformer\n",
        "from sklearn.pipeline import Pipeline\n",
        "import pickle\n",
        "import seaborn as sns\n",
        "import copy\n",
        "\n",
        "from sklearn.model_selection import train_test_split\n",
        "from scikeras.wrappers import KerasClassifier, KerasRegressor\n",
        "from sklearn.model_selection import cross_val_score\n",
        "from sklearn.model_selection import StratifiedKFold\n",
        "from sklearn.model_selection import ShuffleSplit\n",
        "from sklearn.model_selection import GridSearchCV\n",
        "from keras.layers import Dropout\n",
        "\n",
        "import keras\n",
        "from keras.layers import Dense\n",
        "from keras.models import Sequential\n",
        "from keras.models import model_from_json\n",
        "from keras.models import load_model\n",
        "\n",
        "from sklearn import metrics\n",
        "from sklearn.metrics import confusion_matrix\n",
        "from sklearn.metrics import accuracy_score\n",
        "from sklearn.metrics import precision_score\n",
        "from sklearn.metrics import recall_score\n",
        "from sklearn.metrics import f1_score\n",
        "\n",
        "from sklearn import set_config\n",
        "\n",
        "print(\"Módulos y clases importados\")"
      ]
    },
    {
      "cell_type": "markdown",
      "source": [
        "### Carga del dataset\n",
        "\n",
        "Se carga el dataset CIFAR10 de la libreria de keras"
      ],
      "metadata": {
        "id": "8-J8K1nY97pf"
      }
    },
    {
      "cell_type": "code",
      "source": [
        "from tensorflow.keras.datasets import cifar10\n",
        "cifar10.load_data()\n",
        "(X_train, y_train), (X_test, y_test) = cifar10.load_data()"
      ],
      "metadata": {
        "colab": {
          "base_uri": "https://localhost:8080/"
        },
        "id": "6duEOFg79-tR",
        "outputId": "10d0edad-4fde-4078-fa4b-630fa464c9ea"
      },
      "execution_count": 2,
      "outputs": [
        {
          "output_type": "stream",
          "name": "stdout",
          "text": [
            "Downloading data from https://www.cs.toronto.edu/~kriz/cifar-10-python.tar.gz\n",
            "\u001b[1m170498071/170498071\u001b[0m \u001b[32m━━━━━━━━━━━━━━━━━━━━\u001b[0m\u001b[37m\u001b[0m \u001b[1m6s\u001b[0m 0us/step\n"
          ]
        }
      ]
    },
    {
      "cell_type": "markdown",
      "source": [
        "### Transformación de los datos\n",
        "\n",
        "Se transforman las imágenes para ser usadas en una red neuronal clásica"
      ],
      "metadata": {
        "id": "-68OJo6j-DG8"
      }
    },
    {
      "cell_type": "code",
      "source": [
        "# Normalizamos tanto X_train como X_test, en este caso de forma sencilla porque los valores de los pixeles van de 0 a 255.\n",
        "x_train = X_train/255\n",
        "x_test = X_test/255\n",
        "print(\"Normalización lista!\")\n",
        "\n",
        "#Ejemplo para verificar\n",
        "print('x:',X_test[9999,1,1,1])\n",
        "print(\"\"\"x':\"\"\",x_test[9999,1,1,1])"
      ],
      "metadata": {
        "colab": {
          "base_uri": "https://localhost:8080/"
        },
        "id": "hfbkNEhL-I42",
        "outputId": "5ac10f73-1d28-4abf-a6b5-a021f6c8804f"
      },
      "execution_count": 3,
      "outputs": [
        {
          "output_type": "stream",
          "name": "stdout",
          "text": [
            "Normalización lista!\n",
            "x: 89\n",
            "x': 0.34901960784313724\n"
          ]
        }
      ]
    },
    {
      "cell_type": "code",
      "source": [
        "#Para transformar X en estructura clásica de ML (2D) para aplicar técnicas como SVM, Redes Neuronales Densas, KNN, etc.\n",
        "X_trainReshapeImageRow=x_train.reshape((x_train.shape[0],3072))\n",
        "print(X_trainReshapeImageRow.shape)\n",
        "X_testReshapeImageRow=x_test.reshape((x_test.shape[0],3072))\n",
        "print(X_testReshapeImageRow.shape)"
      ],
      "metadata": {
        "colab": {
          "base_uri": "https://localhost:8080/"
        },
        "id": "7zlYbwrz-LoA",
        "outputId": "ce76dfd5-c4f6-4c3b-9e81-37a87e67c36e"
      },
      "execution_count": 4,
      "outputs": [
        {
          "output_type": "stream",
          "name": "stdout",
          "text": [
            "(50000, 3072)\n",
            "(10000, 3072)\n"
          ]
        }
      ]
    },
    {
      "cell_type": "markdown",
      "source": [
        "### Creación del modelo optimizado\n",
        "\n",
        "\n",
        "Se crea el modelo con los mejores parámetros de compilación y densidad encontrados en la fase 2.\n",
        "\n",
        "- epochs = 75\n",
        "- batch_size = 256\n",
        "- optimizer = RMSprops\n",
        "- capa 1 = 48\n",
        "- capa 2 = 48\n",
        "- dropout = 0\n"
      ],
      "metadata": {
        "id": "Dbdneaul-gVm"
      }
    },
    {
      "cell_type": "code",
      "source": [
        "def create_model():\n",
        "\n",
        "  model = Sequential([\n",
        "      Dense(48, input_dim=X_trainReshapeImageRow.shape[1], activation='relu'),\n",
        "      Dense(48, activation='relu'),\n",
        "      Dense(10, activation='softmax')\n",
        "  ])\n",
        "\n",
        "  model.compile(loss='sparse_categorical_crossentropy',\n",
        "              optimizer='RMSprop',\n",
        "              metrics=['accuracy'])\n",
        "\n",
        "  return model\n",
        "\n"
      ],
      "metadata": {
        "id": "vhTisl0XBKMr"
      },
      "execution_count": 5,
      "outputs": []
    },
    {
      "cell_type": "markdown",
      "source": [
        "### Entrenamiento del modelo optimizado"
      ],
      "metadata": {
        "id": "9uZWsDh4MRqO"
      }
    },
    {
      "cell_type": "code",
      "source": [
        "modelo_optimizado = create_model()\n",
        "\n",
        "modelo_optimizado.fit(X_trainReshapeImageRow, y_train, batch_size=256, epochs=75, verbose=1)"
      ],
      "metadata": {
        "colab": {
          "base_uri": "https://localhost:8080/"
        },
        "id": "jefheVMnMUqk",
        "outputId": "a8279d42-429e-4aeb-ee42-95388e5b48bd"
      },
      "execution_count": 6,
      "outputs": [
        {
          "output_type": "stream",
          "name": "stderr",
          "text": [
            "/usr/local/lib/python3.10/dist-packages/keras/src/layers/core/dense.py:87: UserWarning: Do not pass an `input_shape`/`input_dim` argument to a layer. When using Sequential models, prefer using an `Input(shape)` object as the first layer in the model instead.\n",
            "  super().__init__(activity_regularizer=activity_regularizer, **kwargs)\n"
          ]
        },
        {
          "output_type": "stream",
          "name": "stdout",
          "text": [
            "Epoch 1/75\n",
            "\u001b[1m196/196\u001b[0m \u001b[32m━━━━━━━━━━━━━━━━━━━━\u001b[0m\u001b[37m\u001b[0m \u001b[1m3s\u001b[0m 6ms/step - accuracy: 0.1884 - loss: 2.2708\n",
            "Epoch 2/75\n",
            "\u001b[1m196/196\u001b[0m \u001b[32m━━━━━━━━━━━━━━━━━━━━\u001b[0m\u001b[37m\u001b[0m \u001b[1m1s\u001b[0m 3ms/step - accuracy: 0.3036 - loss: 1.9273\n",
            "Epoch 3/75\n",
            "\u001b[1m196/196\u001b[0m \u001b[32m━━━━━━━━━━━━━━━━━━━━\u001b[0m\u001b[37m\u001b[0m \u001b[1m1s\u001b[0m 3ms/step - accuracy: 0.3376 - loss: 1.8533\n",
            "Epoch 4/75\n",
            "\u001b[1m196/196\u001b[0m \u001b[32m━━━━━━━━━━━━━━━━━━━━\u001b[0m\u001b[37m\u001b[0m \u001b[1m1s\u001b[0m 3ms/step - accuracy: 0.3563 - loss: 1.7874\n",
            "Epoch 5/75\n",
            "\u001b[1m196/196\u001b[0m \u001b[32m━━━━━━━━━━━━━━━━━━━━\u001b[0m\u001b[37m\u001b[0m \u001b[1m1s\u001b[0m 3ms/step - accuracy: 0.3647 - loss: 1.7635\n",
            "Epoch 6/75\n",
            "\u001b[1m196/196\u001b[0m \u001b[32m━━━━━━━━━━━━━━━━━━━━\u001b[0m\u001b[37m\u001b[0m \u001b[1m1s\u001b[0m 3ms/step - accuracy: 0.3774 - loss: 1.7358\n",
            "Epoch 7/75\n",
            "\u001b[1m196/196\u001b[0m \u001b[32m━━━━━━━━━━━━━━━━━━━━\u001b[0m\u001b[37m\u001b[0m \u001b[1m1s\u001b[0m 3ms/step - accuracy: 0.3888 - loss: 1.7124\n",
            "Epoch 8/75\n",
            "\u001b[1m196/196\u001b[0m \u001b[32m━━━━━━━━━━━━━━━━━━━━\u001b[0m\u001b[37m\u001b[0m \u001b[1m1s\u001b[0m 3ms/step - accuracy: 0.3922 - loss: 1.6908\n",
            "Epoch 9/75\n",
            "\u001b[1m196/196\u001b[0m \u001b[32m━━━━━━━━━━━━━━━━━━━━\u001b[0m\u001b[37m\u001b[0m \u001b[1m1s\u001b[0m 3ms/step - accuracy: 0.3969 - loss: 1.6818\n",
            "Epoch 10/75\n",
            "\u001b[1m196/196\u001b[0m \u001b[32m━━━━━━━━━━━━━━━━━━━━\u001b[0m\u001b[37m\u001b[0m \u001b[1m1s\u001b[0m 3ms/step - accuracy: 0.4075 - loss: 1.6631\n",
            "Epoch 11/75\n",
            "\u001b[1m196/196\u001b[0m \u001b[32m━━━━━━━━━━━━━━━━━━━━\u001b[0m\u001b[37m\u001b[0m \u001b[1m1s\u001b[0m 3ms/step - accuracy: 0.4145 - loss: 1.6467\n",
            "Epoch 12/75\n",
            "\u001b[1m196/196\u001b[0m \u001b[32m━━━━━━━━━━━━━━━━━━━━\u001b[0m\u001b[37m\u001b[0m \u001b[1m1s\u001b[0m 3ms/step - accuracy: 0.4130 - loss: 1.6385\n",
            "Epoch 13/75\n",
            "\u001b[1m196/196\u001b[0m \u001b[32m━━━━━━━━━━━━━━━━━━━━\u001b[0m\u001b[37m\u001b[0m \u001b[1m1s\u001b[0m 4ms/step - accuracy: 0.4159 - loss: 1.6242\n",
            "Epoch 14/75\n",
            "\u001b[1m196/196\u001b[0m \u001b[32m━━━━━━━━━━━━━━━━━━━━\u001b[0m\u001b[37m\u001b[0m \u001b[1m1s\u001b[0m 3ms/step - accuracy: 0.4221 - loss: 1.6187\n",
            "Epoch 15/75\n",
            "\u001b[1m196/196\u001b[0m \u001b[32m━━━━━━━━━━━━━━━━━━━━\u001b[0m\u001b[37m\u001b[0m \u001b[1m1s\u001b[0m 3ms/step - accuracy: 0.4283 - loss: 1.6015\n",
            "Epoch 16/75\n",
            "\u001b[1m196/196\u001b[0m \u001b[32m━━━━━━━━━━━━━━━━━━━━\u001b[0m\u001b[37m\u001b[0m \u001b[1m1s\u001b[0m 3ms/step - accuracy: 0.4308 - loss: 1.6007\n",
            "Epoch 17/75\n",
            "\u001b[1m196/196\u001b[0m \u001b[32m━━━━━━━━━━━━━━━━━━━━\u001b[0m\u001b[37m\u001b[0m \u001b[1m1s\u001b[0m 3ms/step - accuracy: 0.4305 - loss: 1.5941\n",
            "Epoch 18/75\n",
            "\u001b[1m196/196\u001b[0m \u001b[32m━━━━━━━━━━━━━━━━━━━━\u001b[0m\u001b[37m\u001b[0m \u001b[1m1s\u001b[0m 3ms/step - accuracy: 0.4362 - loss: 1.5868\n",
            "Epoch 19/75\n",
            "\u001b[1m196/196\u001b[0m \u001b[32m━━━━━━━━━━━━━━━━━━━━\u001b[0m\u001b[37m\u001b[0m \u001b[1m1s\u001b[0m 3ms/step - accuracy: 0.4314 - loss: 1.5869\n",
            "Epoch 20/75\n",
            "\u001b[1m196/196\u001b[0m \u001b[32m━━━━━━━━━━━━━━━━━━━━\u001b[0m\u001b[37m\u001b[0m \u001b[1m1s\u001b[0m 3ms/step - accuracy: 0.4405 - loss: 1.5691\n",
            "Epoch 21/75\n",
            "\u001b[1m196/196\u001b[0m \u001b[32m━━━━━━━━━━━━━━━━━━━━\u001b[0m\u001b[37m\u001b[0m \u001b[1m1s\u001b[0m 3ms/step - accuracy: 0.4420 - loss: 1.5696\n",
            "Epoch 22/75\n",
            "\u001b[1m196/196\u001b[0m \u001b[32m━━━━━━━━━━━━━━━━━━━━\u001b[0m\u001b[37m\u001b[0m \u001b[1m1s\u001b[0m 3ms/step - accuracy: 0.4429 - loss: 1.5541\n",
            "Epoch 23/75\n",
            "\u001b[1m196/196\u001b[0m \u001b[32m━━━━━━━━━━━━━━━━━━━━\u001b[0m\u001b[37m\u001b[0m \u001b[1m1s\u001b[0m 3ms/step - accuracy: 0.4412 - loss: 1.5606\n",
            "Epoch 24/75\n",
            "\u001b[1m196/196\u001b[0m \u001b[32m━━━━━━━━━━━━━━━━━━━━\u001b[0m\u001b[37m\u001b[0m \u001b[1m1s\u001b[0m 3ms/step - accuracy: 0.4502 - loss: 1.5494\n",
            "Epoch 25/75\n",
            "\u001b[1m196/196\u001b[0m \u001b[32m━━━━━━━━━━━━━━━━━━━━\u001b[0m\u001b[37m\u001b[0m \u001b[1m1s\u001b[0m 3ms/step - accuracy: 0.4500 - loss: 1.5477\n",
            "Epoch 26/75\n",
            "\u001b[1m196/196\u001b[0m \u001b[32m━━━━━━━━━━━━━━━━━━━━\u001b[0m\u001b[37m\u001b[0m \u001b[1m1s\u001b[0m 3ms/step - accuracy: 0.4525 - loss: 1.5402\n",
            "Epoch 27/75\n",
            "\u001b[1m196/196\u001b[0m \u001b[32m━━━━━━━━━━━━━━━━━━━━\u001b[0m\u001b[37m\u001b[0m \u001b[1m1s\u001b[0m 3ms/step - accuracy: 0.4559 - loss: 1.5337\n",
            "Epoch 28/75\n",
            "\u001b[1m196/196\u001b[0m \u001b[32m━━━━━━━━━━━━━━━━━━━━\u001b[0m\u001b[37m\u001b[0m \u001b[1m1s\u001b[0m 3ms/step - accuracy: 0.4548 - loss: 1.5378\n",
            "Epoch 29/75\n",
            "\u001b[1m196/196\u001b[0m \u001b[32m━━━━━━━━━━━━━━━━━━━━\u001b[0m\u001b[37m\u001b[0m \u001b[1m1s\u001b[0m 3ms/step - accuracy: 0.4548 - loss: 1.5243\n",
            "Epoch 30/75\n",
            "\u001b[1m196/196\u001b[0m \u001b[32m━━━━━━━━━━━━━━━━━━━━\u001b[0m\u001b[37m\u001b[0m \u001b[1m1s\u001b[0m 3ms/step - accuracy: 0.4565 - loss: 1.5229\n",
            "Epoch 31/75\n",
            "\u001b[1m196/196\u001b[0m \u001b[32m━━━━━━━━━━━━━━━━━━━━\u001b[0m\u001b[37m\u001b[0m \u001b[1m1s\u001b[0m 4ms/step - accuracy: 0.4611 - loss: 1.5157\n",
            "Epoch 32/75\n",
            "\u001b[1m196/196\u001b[0m \u001b[32m━━━━━━━━━━━━━━━━━━━━\u001b[0m\u001b[37m\u001b[0m \u001b[1m1s\u001b[0m 3ms/step - accuracy: 0.4634 - loss: 1.5154\n",
            "Epoch 33/75\n",
            "\u001b[1m196/196\u001b[0m \u001b[32m━━━━━━━━━━━━━━━━━━━━\u001b[0m\u001b[37m\u001b[0m \u001b[1m1s\u001b[0m 3ms/step - accuracy: 0.4676 - loss: 1.4998\n",
            "Epoch 34/75\n",
            "\u001b[1m196/196\u001b[0m \u001b[32m━━━━━━━━━━━━━━━━━━━━\u001b[0m\u001b[37m\u001b[0m \u001b[1m1s\u001b[0m 3ms/step - accuracy: 0.4630 - loss: 1.5059\n",
            "Epoch 35/75\n",
            "\u001b[1m196/196\u001b[0m \u001b[32m━━━━━━━━━━━━━━━━━━━━\u001b[0m\u001b[37m\u001b[0m \u001b[1m1s\u001b[0m 3ms/step - accuracy: 0.4656 - loss: 1.4911\n",
            "Epoch 36/75\n",
            "\u001b[1m196/196\u001b[0m \u001b[32m━━━━━━━━━━━━━━━━━━━━\u001b[0m\u001b[37m\u001b[0m \u001b[1m1s\u001b[0m 3ms/step - accuracy: 0.4603 - loss: 1.5077\n",
            "Epoch 37/75\n",
            "\u001b[1m196/196\u001b[0m \u001b[32m━━━━━━━━━━━━━━━━━━━━\u001b[0m\u001b[37m\u001b[0m \u001b[1m1s\u001b[0m 3ms/step - accuracy: 0.4628 - loss: 1.5049\n",
            "Epoch 38/75\n",
            "\u001b[1m196/196\u001b[0m \u001b[32m━━━━━━━━━━━━━━━━━━━━\u001b[0m\u001b[37m\u001b[0m \u001b[1m1s\u001b[0m 3ms/step - accuracy: 0.4685 - loss: 1.4893\n",
            "Epoch 39/75\n",
            "\u001b[1m196/196\u001b[0m \u001b[32m━━━━━━━━━━━━━━━━━━━━\u001b[0m\u001b[37m\u001b[0m \u001b[1m1s\u001b[0m 3ms/step - accuracy: 0.4664 - loss: 1.4897\n",
            "Epoch 40/75\n",
            "\u001b[1m196/196\u001b[0m \u001b[32m━━━━━━━━━━━━━━━━━━━━\u001b[0m\u001b[37m\u001b[0m \u001b[1m1s\u001b[0m 3ms/step - accuracy: 0.4665 - loss: 1.4902\n",
            "Epoch 41/75\n",
            "\u001b[1m196/196\u001b[0m \u001b[32m━━━━━━━━━━━━━━━━━━━━\u001b[0m\u001b[37m\u001b[0m \u001b[1m1s\u001b[0m 3ms/step - accuracy: 0.4676 - loss: 1.4854\n",
            "Epoch 42/75\n",
            "\u001b[1m196/196\u001b[0m \u001b[32m━━━━━━━━━━━━━━━━━━━━\u001b[0m\u001b[37m\u001b[0m \u001b[1m1s\u001b[0m 3ms/step - accuracy: 0.4668 - loss: 1.4886\n",
            "Epoch 43/75\n",
            "\u001b[1m196/196\u001b[0m \u001b[32m━━━━━━━━━━━━━━━━━━━━\u001b[0m\u001b[37m\u001b[0m \u001b[1m1s\u001b[0m 3ms/step - accuracy: 0.4690 - loss: 1.4925\n",
            "Epoch 44/75\n",
            "\u001b[1m196/196\u001b[0m \u001b[32m━━━━━━━━━━━━━━━━━━━━\u001b[0m\u001b[37m\u001b[0m \u001b[1m1s\u001b[0m 3ms/step - accuracy: 0.4703 - loss: 1.4833\n",
            "Epoch 45/75\n",
            "\u001b[1m196/196\u001b[0m \u001b[32m━━━━━━━━━━━━━━━━━━━━\u001b[0m\u001b[37m\u001b[0m \u001b[1m1s\u001b[0m 3ms/step - accuracy: 0.4729 - loss: 1.4769\n",
            "Epoch 46/75\n",
            "\u001b[1m196/196\u001b[0m \u001b[32m━━━━━━━━━━━━━━━━━━━━\u001b[0m\u001b[37m\u001b[0m \u001b[1m1s\u001b[0m 3ms/step - accuracy: 0.4728 - loss: 1.4773\n",
            "Epoch 47/75\n",
            "\u001b[1m196/196\u001b[0m \u001b[32m━━━━━━━━━━━━━━━━━━━━\u001b[0m\u001b[37m\u001b[0m \u001b[1m1s\u001b[0m 3ms/step - accuracy: 0.4729 - loss: 1.4695\n",
            "Epoch 48/75\n",
            "\u001b[1m196/196\u001b[0m \u001b[32m━━━━━━━━━━━━━━━━━━━━\u001b[0m\u001b[37m\u001b[0m \u001b[1m1s\u001b[0m 4ms/step - accuracy: 0.4755 - loss: 1.4696\n",
            "Epoch 49/75\n",
            "\u001b[1m196/196\u001b[0m \u001b[32m━━━━━━━━━━━━━━━━━━━━\u001b[0m\u001b[37m\u001b[0m \u001b[1m1s\u001b[0m 4ms/step - accuracy: 0.4747 - loss: 1.4648\n",
            "Epoch 50/75\n",
            "\u001b[1m196/196\u001b[0m \u001b[32m━━━━━━━━━━━━━━━━━━━━\u001b[0m\u001b[37m\u001b[0m \u001b[1m1s\u001b[0m 3ms/step - accuracy: 0.4776 - loss: 1.4613\n",
            "Epoch 51/75\n",
            "\u001b[1m196/196\u001b[0m \u001b[32m━━━━━━━━━━━━━━━━━━━━\u001b[0m\u001b[37m\u001b[0m \u001b[1m1s\u001b[0m 4ms/step - accuracy: 0.4744 - loss: 1.4627\n",
            "Epoch 52/75\n",
            "\u001b[1m196/196\u001b[0m \u001b[32m━━━━━━━━━━━━━━━━━━━━\u001b[0m\u001b[37m\u001b[0m \u001b[1m1s\u001b[0m 4ms/step - accuracy: 0.4785 - loss: 1.4515\n",
            "Epoch 53/75\n",
            "\u001b[1m196/196\u001b[0m \u001b[32m━━━━━━━━━━━━━━━━━━━━\u001b[0m\u001b[37m\u001b[0m \u001b[1m1s\u001b[0m 4ms/step - accuracy: 0.4800 - loss: 1.4554\n",
            "Epoch 54/75\n",
            "\u001b[1m196/196\u001b[0m \u001b[32m━━━━━━━━━━━━━━━━━━━━\u001b[0m\u001b[37m\u001b[0m \u001b[1m1s\u001b[0m 3ms/step - accuracy: 0.4835 - loss: 1.4498\n",
            "Epoch 55/75\n",
            "\u001b[1m196/196\u001b[0m \u001b[32m━━━━━━━━━━━━━━━━━━━━\u001b[0m\u001b[37m\u001b[0m \u001b[1m1s\u001b[0m 3ms/step - accuracy: 0.4785 - loss: 1.4591\n",
            "Epoch 56/75\n",
            "\u001b[1m196/196\u001b[0m \u001b[32m━━━━━━━━━━━━━━━━━━━━\u001b[0m\u001b[37m\u001b[0m \u001b[1m1s\u001b[0m 3ms/step - accuracy: 0.4785 - loss: 1.4530\n",
            "Epoch 57/75\n",
            "\u001b[1m196/196\u001b[0m \u001b[32m━━━━━━━━━━━━━━━━━━━━\u001b[0m\u001b[37m\u001b[0m \u001b[1m1s\u001b[0m 3ms/step - accuracy: 0.4816 - loss: 1.4483\n",
            "Epoch 58/75\n",
            "\u001b[1m196/196\u001b[0m \u001b[32m━━━━━━━━━━━━━━━━━━━━\u001b[0m\u001b[37m\u001b[0m \u001b[1m1s\u001b[0m 3ms/step - accuracy: 0.4818 - loss: 1.4509\n",
            "Epoch 59/75\n",
            "\u001b[1m196/196\u001b[0m \u001b[32m━━━━━━━━━━━━━━━━━━━━\u001b[0m\u001b[37m\u001b[0m \u001b[1m1s\u001b[0m 3ms/step - accuracy: 0.4827 - loss: 1.4542\n",
            "Epoch 60/75\n",
            "\u001b[1m196/196\u001b[0m \u001b[32m━━━━━━━━━━━━━━━━━━━━\u001b[0m\u001b[37m\u001b[0m \u001b[1m1s\u001b[0m 3ms/step - accuracy: 0.4797 - loss: 1.4493\n",
            "Epoch 61/75\n",
            "\u001b[1m196/196\u001b[0m \u001b[32m━━━━━━━━━━━━━━━━━━━━\u001b[0m\u001b[37m\u001b[0m \u001b[1m1s\u001b[0m 3ms/step - accuracy: 0.4845 - loss: 1.4364\n",
            "Epoch 62/75\n",
            "\u001b[1m196/196\u001b[0m \u001b[32m━━━━━━━━━━━━━━━━━━━━\u001b[0m\u001b[37m\u001b[0m \u001b[1m1s\u001b[0m 3ms/step - accuracy: 0.4833 - loss: 1.4365\n",
            "Epoch 63/75\n",
            "\u001b[1m196/196\u001b[0m \u001b[32m━━━━━━━━━━━━━━━━━━━━\u001b[0m\u001b[37m\u001b[0m \u001b[1m1s\u001b[0m 3ms/step - accuracy: 0.4832 - loss: 1.4419\n",
            "Epoch 64/75\n",
            "\u001b[1m196/196\u001b[0m \u001b[32m━━━━━━━━━━━━━━━━━━━━\u001b[0m\u001b[37m\u001b[0m \u001b[1m1s\u001b[0m 4ms/step - accuracy: 0.4818 - loss: 1.4433\n",
            "Epoch 65/75\n",
            "\u001b[1m196/196\u001b[0m \u001b[32m━━━━━━━━━━━━━━━━━━━━\u001b[0m\u001b[37m\u001b[0m \u001b[1m1s\u001b[0m 3ms/step - accuracy: 0.4837 - loss: 1.4374\n",
            "Epoch 66/75\n",
            "\u001b[1m196/196\u001b[0m \u001b[32m━━━━━━━━━━━━━━━━━━━━\u001b[0m\u001b[37m\u001b[0m \u001b[1m1s\u001b[0m 3ms/step - accuracy: 0.4878 - loss: 1.4382\n",
            "Epoch 67/75\n",
            "\u001b[1m196/196\u001b[0m \u001b[32m━━━━━━━━━━━━━━━━━━━━\u001b[0m\u001b[37m\u001b[0m \u001b[1m1s\u001b[0m 3ms/step - accuracy: 0.4851 - loss: 1.4385\n",
            "Epoch 68/75\n",
            "\u001b[1m196/196\u001b[0m \u001b[32m━━━━━━━━━━━━━━━━━━━━\u001b[0m\u001b[37m\u001b[0m \u001b[1m1s\u001b[0m 2ms/step - accuracy: 0.4921 - loss: 1.4286\n",
            "Epoch 69/75\n",
            "\u001b[1m196/196\u001b[0m \u001b[32m━━━━━━━━━━━━━━━━━━━━\u001b[0m\u001b[37m\u001b[0m \u001b[1m1s\u001b[0m 3ms/step - accuracy: 0.4917 - loss: 1.4291\n",
            "Epoch 70/75\n",
            "\u001b[1m196/196\u001b[0m \u001b[32m━━━━━━━━━━━━━━━━━━━━\u001b[0m\u001b[37m\u001b[0m \u001b[1m1s\u001b[0m 3ms/step - accuracy: 0.4872 - loss: 1.4324\n",
            "Epoch 71/75\n",
            "\u001b[1m196/196\u001b[0m \u001b[32m━━━━━━━━━━━━━━━━━━━━\u001b[0m\u001b[37m\u001b[0m \u001b[1m1s\u001b[0m 3ms/step - accuracy: 0.4903 - loss: 1.4259\n",
            "Epoch 72/75\n",
            "\u001b[1m196/196\u001b[0m \u001b[32m━━━━━━━━━━━━━━━━━━━━\u001b[0m\u001b[37m\u001b[0m \u001b[1m1s\u001b[0m 3ms/step - accuracy: 0.4887 - loss: 1.4296\n",
            "Epoch 73/75\n",
            "\u001b[1m196/196\u001b[0m \u001b[32m━━━━━━━━━━━━━━━━━━━━\u001b[0m\u001b[37m\u001b[0m \u001b[1m1s\u001b[0m 3ms/step - accuracy: 0.4910 - loss: 1.4245\n",
            "Epoch 74/75\n",
            "\u001b[1m196/196\u001b[0m \u001b[32m━━━━━━━━━━━━━━━━━━━━\u001b[0m\u001b[37m\u001b[0m \u001b[1m1s\u001b[0m 3ms/step - accuracy: 0.4910 - loss: 1.4239\n",
            "Epoch 75/75\n",
            "\u001b[1m196/196\u001b[0m \u001b[32m━━━━━━━━━━━━━━━━━━━━\u001b[0m\u001b[37m\u001b[0m \u001b[1m1s\u001b[0m 3ms/step - accuracy: 0.4915 - loss: 1.4211\n"
          ]
        },
        {
          "output_type": "execute_result",
          "data": {
            "text/plain": [
              "<keras.src.callbacks.history.History at 0x7e79b695bf10>"
            ]
          },
          "metadata": {},
          "execution_count": 6
        }
      ]
    },
    {
      "cell_type": "code",
      "source": [
        "# Se guarda el modelo en un archivo\n",
        "modelo_optimizado.save('modelo_optimizado.h5')"
      ],
      "metadata": {
        "colab": {
          "base_uri": "https://localhost:8080/"
        },
        "id": "rEZLWhubTWNk",
        "outputId": "23c6716c-70fd-4b90-bb3b-de3bca16441d"
      },
      "execution_count": 7,
      "outputs": [
        {
          "output_type": "stream",
          "name": "stderr",
          "text": [
            "WARNING:absl:You are saving your model as an HDF5 file via `model.save()` or `keras.saving.save_model(model)`. This file format is considered legacy. We recommend using instead the native Keras format, e.g. `model.save('my_model.keras')` or `keras.saving.save_model(model, 'my_model.keras')`. \n"
          ]
        }
      ]
    },
    {
      "cell_type": "code",
      "source": [
        "#from keras.models import load_model\n",
        "\n",
        "# Cargar el modelo desde el archivo .h5\n",
        "#modelo_optimizado = load_model('modelo_optimizado.h5')\n"
      ],
      "metadata": {
        "id": "0mA-OmLoTdg6"
      },
      "execution_count": null,
      "outputs": []
    },
    {
      "cell_type": "markdown",
      "source": [
        "### Evaluación del modelo optimizado\n"
      ],
      "metadata": {
        "id": "JiwwkD0-P-07"
      }
    },
    {
      "cell_type": "code",
      "source": [
        "#Predicciones con el conjunto de Test\n",
        "import pandas as pd\n",
        "\n",
        "y_pred = modelo_optimizado.predict(X_testReshapeImageRow)\n",
        "\n",
        "print(\"y_pred antes del aplanado\")\n",
        "y_pred_df = pd.DataFrame(y_pred, columns=['airplane', 'automobile', 'bird', 'cat', 'deer', 'dog', 'frog', 'horse', 'ship', 'truck'])\n",
        "print(y_pred_df.tail(3))\n",
        "#argmax identifica el valor máximo para determinar la categoría\n",
        "y_pred = np.argmax(y_pred, axis=-1)\n",
        "\n",
        "y_pred = y_pred.flatten()\n",
        "y_test_f = y_test.flatten()\n",
        "\n",
        "dataframeFinal=pd.DataFrame({'real':y_test_f, 'predicción': y_pred})\n",
        "np.set_printoptions(formatter={'float': lambda X: \"{0:0.0f}\".format(X)})\n",
        "dataframeFinal.head(10)"
      ],
      "metadata": {
        "colab": {
          "base_uri": "https://localhost:8080/",
          "height": 560
        },
        "id": "_k9AIW97QBrc",
        "outputId": "5d25352f-2a2e-4075-971b-76c68d61347d"
      },
      "execution_count": 8,
      "outputs": [
        {
          "output_type": "stream",
          "name": "stdout",
          "text": [
            "\u001b[1m313/313\u001b[0m \u001b[32m━━━━━━━━━━━━━━━━━━━━\u001b[0m\u001b[37m\u001b[0m \u001b[1m1s\u001b[0m 2ms/step\n",
            "y_pred antes del aplanado\n",
            "      airplane  automobile      bird       cat      deer       dog      frog  \\\n",
            "9997  0.002402    0.000663  0.087567  0.501463  0.093141  0.268462  0.007441   \n",
            "9998  0.059113    0.015204  0.179205  0.159822  0.085405  0.271041  0.125727   \n",
            "9999  0.025487    0.001742  0.242954  0.083314  0.396461  0.075911  0.069793   \n",
            "\n",
            "         horse      ship     truck  \n",
            "9997  0.029526  0.008934  0.000400  \n",
            "9998  0.032298  0.014115  0.058071  \n",
            "9999  0.093165  0.006607  0.004566  \n"
          ]
        },
        {
          "output_type": "execute_result",
          "data": {
            "text/plain": [
              "   real  predicción\n",
              "0     3           3\n",
              "1     8           8\n",
              "2     8           1\n",
              "3     0           8\n",
              "4     6           4\n",
              "5     6           6\n",
              "6     1           3\n",
              "7     6           6\n",
              "8     3           5\n",
              "9     1           1"
            ],
            "text/html": [
              "\n",
              "  <div id=\"df-2779e955-016d-4225-a2b1-69e2a78d2265\" class=\"colab-df-container\">\n",
              "    <div>\n",
              "<style scoped>\n",
              "    .dataframe tbody tr th:only-of-type {\n",
              "        vertical-align: middle;\n",
              "    }\n",
              "\n",
              "    .dataframe tbody tr th {\n",
              "        vertical-align: top;\n",
              "    }\n",
              "\n",
              "    .dataframe thead th {\n",
              "        text-align: right;\n",
              "    }\n",
              "</style>\n",
              "<table border=\"1\" class=\"dataframe\">\n",
              "  <thead>\n",
              "    <tr style=\"text-align: right;\">\n",
              "      <th></th>\n",
              "      <th>real</th>\n",
              "      <th>predicción</th>\n",
              "    </tr>\n",
              "  </thead>\n",
              "  <tbody>\n",
              "    <tr>\n",
              "      <th>0</th>\n",
              "      <td>3</td>\n",
              "      <td>3</td>\n",
              "    </tr>\n",
              "    <tr>\n",
              "      <th>1</th>\n",
              "      <td>8</td>\n",
              "      <td>8</td>\n",
              "    </tr>\n",
              "    <tr>\n",
              "      <th>2</th>\n",
              "      <td>8</td>\n",
              "      <td>1</td>\n",
              "    </tr>\n",
              "    <tr>\n",
              "      <th>3</th>\n",
              "      <td>0</td>\n",
              "      <td>8</td>\n",
              "    </tr>\n",
              "    <tr>\n",
              "      <th>4</th>\n",
              "      <td>6</td>\n",
              "      <td>4</td>\n",
              "    </tr>\n",
              "    <tr>\n",
              "      <th>5</th>\n",
              "      <td>6</td>\n",
              "      <td>6</td>\n",
              "    </tr>\n",
              "    <tr>\n",
              "      <th>6</th>\n",
              "      <td>1</td>\n",
              "      <td>3</td>\n",
              "    </tr>\n",
              "    <tr>\n",
              "      <th>7</th>\n",
              "      <td>6</td>\n",
              "      <td>6</td>\n",
              "    </tr>\n",
              "    <tr>\n",
              "      <th>8</th>\n",
              "      <td>3</td>\n",
              "      <td>5</td>\n",
              "    </tr>\n",
              "    <tr>\n",
              "      <th>9</th>\n",
              "      <td>1</td>\n",
              "      <td>1</td>\n",
              "    </tr>\n",
              "  </tbody>\n",
              "</table>\n",
              "</div>\n",
              "    <div class=\"colab-df-buttons\">\n",
              "\n",
              "  <div class=\"colab-df-container\">\n",
              "    <button class=\"colab-df-convert\" onclick=\"convertToInteractive('df-2779e955-016d-4225-a2b1-69e2a78d2265')\"\n",
              "            title=\"Convert this dataframe to an interactive table.\"\n",
              "            style=\"display:none;\">\n",
              "\n",
              "  <svg xmlns=\"http://www.w3.org/2000/svg\" height=\"24px\" viewBox=\"0 -960 960 960\">\n",
              "    <path d=\"M120-120v-720h720v720H120Zm60-500h600v-160H180v160Zm220 220h160v-160H400v160Zm0 220h160v-160H400v160ZM180-400h160v-160H180v160Zm440 0h160v-160H620v160ZM180-180h160v-160H180v160Zm440 0h160v-160H620v160Z\"/>\n",
              "  </svg>\n",
              "    </button>\n",
              "\n",
              "  <style>\n",
              "    .colab-df-container {\n",
              "      display:flex;\n",
              "      gap: 12px;\n",
              "    }\n",
              "\n",
              "    .colab-df-convert {\n",
              "      background-color: #E8F0FE;\n",
              "      border: none;\n",
              "      border-radius: 50%;\n",
              "      cursor: pointer;\n",
              "      display: none;\n",
              "      fill: #1967D2;\n",
              "      height: 32px;\n",
              "      padding: 0 0 0 0;\n",
              "      width: 32px;\n",
              "    }\n",
              "\n",
              "    .colab-df-convert:hover {\n",
              "      background-color: #E2EBFA;\n",
              "      box-shadow: 0px 1px 2px rgba(60, 64, 67, 0.3), 0px 1px 3px 1px rgba(60, 64, 67, 0.15);\n",
              "      fill: #174EA6;\n",
              "    }\n",
              "\n",
              "    .colab-df-buttons div {\n",
              "      margin-bottom: 4px;\n",
              "    }\n",
              "\n",
              "    [theme=dark] .colab-df-convert {\n",
              "      background-color: #3B4455;\n",
              "      fill: #D2E3FC;\n",
              "    }\n",
              "\n",
              "    [theme=dark] .colab-df-convert:hover {\n",
              "      background-color: #434B5C;\n",
              "      box-shadow: 0px 1px 3px 1px rgba(0, 0, 0, 0.15);\n",
              "      filter: drop-shadow(0px 1px 2px rgba(0, 0, 0, 0.3));\n",
              "      fill: #FFFFFF;\n",
              "    }\n",
              "  </style>\n",
              "\n",
              "    <script>\n",
              "      const buttonEl =\n",
              "        document.querySelector('#df-2779e955-016d-4225-a2b1-69e2a78d2265 button.colab-df-convert');\n",
              "      buttonEl.style.display =\n",
              "        google.colab.kernel.accessAllowed ? 'block' : 'none';\n",
              "\n",
              "      async function convertToInteractive(key) {\n",
              "        const element = document.querySelector('#df-2779e955-016d-4225-a2b1-69e2a78d2265');\n",
              "        const dataTable =\n",
              "          await google.colab.kernel.invokeFunction('convertToInteractive',\n",
              "                                                    [key], {});\n",
              "        if (!dataTable) return;\n",
              "\n",
              "        const docLinkHtml = 'Like what you see? Visit the ' +\n",
              "          '<a target=\"_blank\" href=https://colab.research.google.com/notebooks/data_table.ipynb>data table notebook</a>'\n",
              "          + ' to learn more about interactive tables.';\n",
              "        element.innerHTML = '';\n",
              "        dataTable['output_type'] = 'display_data';\n",
              "        await google.colab.output.renderOutput(dataTable, element);\n",
              "        const docLink = document.createElement('div');\n",
              "        docLink.innerHTML = docLinkHtml;\n",
              "        element.appendChild(docLink);\n",
              "      }\n",
              "    </script>\n",
              "  </div>\n",
              "\n",
              "\n",
              "<div id=\"df-79089a06-c9b9-4196-9cc7-df58e65bc856\">\n",
              "  <button class=\"colab-df-quickchart\" onclick=\"quickchart('df-79089a06-c9b9-4196-9cc7-df58e65bc856')\"\n",
              "            title=\"Suggest charts\"\n",
              "            style=\"display:none;\">\n",
              "\n",
              "<svg xmlns=\"http://www.w3.org/2000/svg\" height=\"24px\"viewBox=\"0 0 24 24\"\n",
              "     width=\"24px\">\n",
              "    <g>\n",
              "        <path d=\"M19 3H5c-1.1 0-2 .9-2 2v14c0 1.1.9 2 2 2h14c1.1 0 2-.9 2-2V5c0-1.1-.9-2-2-2zM9 17H7v-7h2v7zm4 0h-2V7h2v10zm4 0h-2v-4h2v4z\"/>\n",
              "    </g>\n",
              "</svg>\n",
              "  </button>\n",
              "\n",
              "<style>\n",
              "  .colab-df-quickchart {\n",
              "      --bg-color: #E8F0FE;\n",
              "      --fill-color: #1967D2;\n",
              "      --hover-bg-color: #E2EBFA;\n",
              "      --hover-fill-color: #174EA6;\n",
              "      --disabled-fill-color: #AAA;\n",
              "      --disabled-bg-color: #DDD;\n",
              "  }\n",
              "\n",
              "  [theme=dark] .colab-df-quickchart {\n",
              "      --bg-color: #3B4455;\n",
              "      --fill-color: #D2E3FC;\n",
              "      --hover-bg-color: #434B5C;\n",
              "      --hover-fill-color: #FFFFFF;\n",
              "      --disabled-bg-color: #3B4455;\n",
              "      --disabled-fill-color: #666;\n",
              "  }\n",
              "\n",
              "  .colab-df-quickchart {\n",
              "    background-color: var(--bg-color);\n",
              "    border: none;\n",
              "    border-radius: 50%;\n",
              "    cursor: pointer;\n",
              "    display: none;\n",
              "    fill: var(--fill-color);\n",
              "    height: 32px;\n",
              "    padding: 0;\n",
              "    width: 32px;\n",
              "  }\n",
              "\n",
              "  .colab-df-quickchart:hover {\n",
              "    background-color: var(--hover-bg-color);\n",
              "    box-shadow: 0 1px 2px rgba(60, 64, 67, 0.3), 0 1px 3px 1px rgba(60, 64, 67, 0.15);\n",
              "    fill: var(--button-hover-fill-color);\n",
              "  }\n",
              "\n",
              "  .colab-df-quickchart-complete:disabled,\n",
              "  .colab-df-quickchart-complete:disabled:hover {\n",
              "    background-color: var(--disabled-bg-color);\n",
              "    fill: var(--disabled-fill-color);\n",
              "    box-shadow: none;\n",
              "  }\n",
              "\n",
              "  .colab-df-spinner {\n",
              "    border: 2px solid var(--fill-color);\n",
              "    border-color: transparent;\n",
              "    border-bottom-color: var(--fill-color);\n",
              "    animation:\n",
              "      spin 1s steps(1) infinite;\n",
              "  }\n",
              "\n",
              "  @keyframes spin {\n",
              "    0% {\n",
              "      border-color: transparent;\n",
              "      border-bottom-color: var(--fill-color);\n",
              "      border-left-color: var(--fill-color);\n",
              "    }\n",
              "    20% {\n",
              "      border-color: transparent;\n",
              "      border-left-color: var(--fill-color);\n",
              "      border-top-color: var(--fill-color);\n",
              "    }\n",
              "    30% {\n",
              "      border-color: transparent;\n",
              "      border-left-color: var(--fill-color);\n",
              "      border-top-color: var(--fill-color);\n",
              "      border-right-color: var(--fill-color);\n",
              "    }\n",
              "    40% {\n",
              "      border-color: transparent;\n",
              "      border-right-color: var(--fill-color);\n",
              "      border-top-color: var(--fill-color);\n",
              "    }\n",
              "    60% {\n",
              "      border-color: transparent;\n",
              "      border-right-color: var(--fill-color);\n",
              "    }\n",
              "    80% {\n",
              "      border-color: transparent;\n",
              "      border-right-color: var(--fill-color);\n",
              "      border-bottom-color: var(--fill-color);\n",
              "    }\n",
              "    90% {\n",
              "      border-color: transparent;\n",
              "      border-bottom-color: var(--fill-color);\n",
              "    }\n",
              "  }\n",
              "</style>\n",
              "\n",
              "  <script>\n",
              "    async function quickchart(key) {\n",
              "      const quickchartButtonEl =\n",
              "        document.querySelector('#' + key + ' button');\n",
              "      quickchartButtonEl.disabled = true;  // To prevent multiple clicks.\n",
              "      quickchartButtonEl.classList.add('colab-df-spinner');\n",
              "      try {\n",
              "        const charts = await google.colab.kernel.invokeFunction(\n",
              "            'suggestCharts', [key], {});\n",
              "      } catch (error) {\n",
              "        console.error('Error during call to suggestCharts:', error);\n",
              "      }\n",
              "      quickchartButtonEl.classList.remove('colab-df-spinner');\n",
              "      quickchartButtonEl.classList.add('colab-df-quickchart-complete');\n",
              "    }\n",
              "    (() => {\n",
              "      let quickchartButtonEl =\n",
              "        document.querySelector('#df-79089a06-c9b9-4196-9cc7-df58e65bc856 button');\n",
              "      quickchartButtonEl.style.display =\n",
              "        google.colab.kernel.accessAllowed ? 'block' : 'none';\n",
              "    })();\n",
              "  </script>\n",
              "</div>\n",
              "\n",
              "    </div>\n",
              "  </div>\n"
            ],
            "application/vnd.google.colaboratory.intrinsic+json": {
              "type": "dataframe",
              "variable_name": "dataframeFinal",
              "summary": "{\n  \"name\": \"dataframeFinal\",\n  \"rows\": 10000,\n  \"fields\": [\n    {\n      \"column\": \"real\",\n      \"properties\": {\n        \"dtype\": \"uint8\",\n        \"num_unique_values\": 10,\n        \"samples\": [\n          4,\n          8,\n          9\n        ],\n        \"semantic_type\": \"\",\n        \"description\": \"\"\n      }\n    },\n    {\n      \"column\": \"predicci\\u00f3n\",\n      \"properties\": {\n        \"dtype\": \"number\",\n        \"std\": 2,\n        \"min\": 0,\n        \"max\": 9,\n        \"num_unique_values\": 10,\n        \"samples\": [\n          9,\n          8,\n          5\n        ],\n        \"semantic_type\": \"\",\n        \"description\": \"\"\n      }\n    }\n  ]\n}"
            }
          },
          "metadata": {},
          "execution_count": 8
        }
      ]
    },
    {
      "cell_type": "markdown",
      "source": [
        "Se obtiene la matriz de confusión del modelo"
      ],
      "metadata": {
        "id": "sDphcEuqT6hl"
      }
    },
    {
      "cell_type": "code",
      "source": [
        "# Calcular metricas de evaluacion\n",
        "import numpy as np\n",
        "import matplotlib.pyplot as plt\n",
        "from sklearn.metrics import confusion_matrix\n",
        "import seaborn as sns\n",
        "\n",
        "def _load_label_names():\n",
        "    return ['airplane', 'automobile', 'bird', 'cat', 'deer', 'dog', 'frog', 'horse', 'ship', 'truck']\n",
        "\n",
        "def evaluar_modelo(y_test, y_pred):\n",
        "  # Calcular la matriz de confusión\n",
        "  conf_matrix = confusion_matrix(y_test, y_pred)\n",
        "\n",
        "  # Calcular las métricas de evaluación a partir de la matriz de confusión\n",
        "  tp = np.diag(conf_matrix)\n",
        "  fp = np.sum(conf_matrix, axis=0) - tp\n",
        "  fn = np.sum(conf_matrix, axis=1) - tp\n",
        "\n",
        "  accuracy = np.mean(tp / (tp + fn))\n",
        "  precision = np.mean(tp / (tp + fp))\n",
        "  recall = np.mean(tp / (tp + fn))\n",
        "  f1 = 2 * precision * recall / (precision + recall)\n",
        "\n",
        "  # Imprimir resultados\n",
        "  print(\"Accuracy  Precision  Recall  F1-score\")\n",
        "  print(f\"{accuracy:.4f}    {precision:.4f}    {recall:.4f}    {f1:.4f}\")\n",
        "\n",
        "  # Crear el plot de la matriz de confusión\n",
        "  plt.figure(figsize=(12, 10))\n",
        "  sns.heatmap(conf_matrix, annot=True, fmt='d', cmap='coolwarm')\n",
        "\n",
        "  # Añadir etiquetas y título\n",
        "  plt.xlabel('categorías predecidas')\n",
        "  plt.ylabel('categorías reales')\n",
        "  plt.xticks(np.arange(conf_matrix.shape[0])+0.5, labels=_load_label_names(),rotation=45, ha=\"right\")\n",
        "  plt.yticks(np.arange(conf_matrix.shape[1])+0.5, labels=_load_label_names())\n",
        "  plt.title('Figura 5: Matriz de confusión modelo optimizado')\n",
        "\n",
        "  # Mostrar el plot\n",
        "  plt.show()\n",
        "\n",
        "evaluar_modelo(y_test, y_pred)"
      ],
      "metadata": {
        "colab": {
          "base_uri": "https://localhost:8080/",
          "height": 961
        },
        "id": "crKY8KAuUBMr",
        "outputId": "6d69a138-884f-4b7a-f9de-44b1f37ee6bc"
      },
      "execution_count": 10,
      "outputs": [
        {
          "output_type": "stream",
          "name": "stdout",
          "text": [
            "Accuracy  Precision  Recall  F1-score\n",
            "0.4261    0.4699    0.4261    0.4469\n"
          ]
        },
        {
          "output_type": "display_data",
          "data": {
            "text/plain": [
              "<Figure size 1200x1000 with 2 Axes>"
            ],
            "image/png": "[encoded data removed]"
          },
          "metadata": {}
        }
      ]
    },
    {
      "cell_type": "markdown",
      "source": [
        "Como se puede observar en la matriz de confusión (Figura 5) del modelo optimizado, la clase que mejor se predice es la \"automobile\" (automóvil) teniendo 714 clasificaciones correctas. También se puede ver un incremento de clasificaciones correctas de la clase \"frog\" que fue la que más clasificaciones correctas tenía en el modelo base."
      ],
      "metadata": {
        "id": "vEGoHiNcZN0Z"
      }
    },
    {
      "cell_type": "markdown",
      "source": [
        "### Predicciones\n",
        "\n",
        "Se realiza predicciones con el modelo optimizado usando una imagen del conjunto de test y otra externa, las imágenes van a ser de automóviles que es lo que mejor clasifica este modelo."
      ],
      "metadata": {
        "id": "RzwYjTboXZwU"
      }
    },
    {
      "cell_type": "markdown",
      "source": [
        "#### Predicción de una imagen específica del conjunto de datos de Test"
      ],
      "metadata": {
        "id": "70QfcTeqdkPz"
      }
    },
    {
      "cell_type": "code",
      "source": [
        "import numpy\n",
        "import matplotlib.pyplot as plt\n",
        "from PIL import Image\n",
        "\n",
        "label_names = _load_label_names()\n",
        "\n",
        "print('Imagen:')\n",
        "sample_id=7487\n",
        "sample_image=X_test[sample_id]\n",
        "print(sample_image.shape)\n",
        "sample_label=y_test[sample_id][0]\n",
        "print('Etiqueta real - Etiqueta Id: {} Nombre: {}'.format(sample_label, label_names[sample_label]))"
      ],
      "metadata": {
        "colab": {
          "base_uri": "https://localhost:8080/"
        },
        "id": "cYDxxdedXbOL",
        "outputId": "dc50a3a5-d76c-498f-e43f-5872bb405413"
      },
      "execution_count": 16,
      "outputs": [
        {
          "output_type": "stream",
          "name": "stdout",
          "text": [
            "Imagen:\n",
            "(32, 32, 3)\n",
            "Etiqueta real - Etiqueta Id: 1 Nombre: automobile\n"
          ]
        }
      ]
    },
    {
      "cell_type": "code",
      "source": [
        "print('Predicciones:')\n",
        "sample_image_trans = X_testReshapeImageRow[sample_id]\n",
        "sample_imageTrans = numpy.expand_dims(sample_image_trans, axis=0)\n",
        "resultados = modelo_optimizado.predict(sample_imageTrans)[0]\n",
        "print(resultados)\n",
        "maxElement = numpy.amax(resultados)\n",
        "print('certeza: ', str(round(maxElement*100, 4))+'%')\n",
        "result = numpy.where(resultados == numpy.amax(resultados))\n",
        "print('Max :', maxElement)\n",
        "#print('Returned tuple of arrays :', result)\n",
        "print('Lista de indices de máximo elemento :', result[0][0])\n",
        "index_sample_label=result[0][0]\n",
        "\n",
        "print(label_names)\n",
        "print('Etiqueta predicción: ', label_names[index_sample_label])\n",
        "\n",
        "img=sample_image\n",
        "plt.imshow(img)\n",
        "\n",
        "#Guardar imagen\n",
        "#plt.savefig('Imagenes/imagen1.png')\n",
        "\n",
        "#data = numpy.random.random((100,100))\n",
        "#Rescale to 0-255 and convert to uint8\n",
        "#rescaled = (255.0 / data.max() * (data - data.min())).astype(np.uint8)\n",
        "\n",
        "im = Image.fromarray(sample_image)\n",
        "im.save('imagen_predecida_1.png')"
      ],
      "metadata": {
        "colab": {
          "base_uri": "https://localhost:8080/",
          "height": 573
        },
        "id": "kfbOXsDKYobJ",
        "outputId": "e408f628-91fe-4d94-cdd4-e840115bb9b7"
      },
      "execution_count": 18,
      "outputs": [
        {
          "output_type": "stream",
          "name": "stdout",
          "text": [
            "Predicciones:\n",
            "\u001b[1m1/1\u001b[0m \u001b[32m━━━━━━━━━━━━━━━━━━━━\u001b[0m\u001b[37m\u001b[0m \u001b[1m0s\u001b[0m 22ms/step\n",
            "[0 1 0 0 0 0 0 0 0 0]\n",
            "certeza:  88.2463%\n",
            "Max : 0.8824625\n",
            "Lista de indices de máximo elemento : 1\n",
            "['airplane', 'automobile', 'bird', 'cat', 'deer', 'dog', 'frog', 'horse', 'ship', 'truck']\n",
            "Etiqueta predicción:  automobile\n"
          ]
        },
        {
          "output_type": "display_data",
          "data": {
            "text/plain": [
              "<Figure size 640x480 with 1 Axes>"
            ],
            "image/png": "[encoded data removed]"
          },
          "metadata": {}
        }
      ]
    },
    {
      "cell_type": "markdown",
      "source": [
        "#### Predicción de una imagen desde un Path"
      ],
      "metadata": {
        "id": "qTnAZfGrdrbt"
      }
    },
    {
      "cell_type": "code",
      "source": [
        "print('Imagen:')\n",
        "img = Image.open('/content/drive/MyDrive/MachineLearning/Imagenes/auto_test.jpg').convert('RGB')\n",
        "arr = np.array(img)\n",
        "print(arr.shape)\n"
      ],
      "metadata": {
        "colab": {
          "base_uri": "https://localhost:8080/"
        },
        "id": "6OeYAGGtds0w",
        "outputId": "ce25a10f-d177-4fef-ca62-be4e49b78256"
      },
      "execution_count": 21,
      "outputs": [
        {
          "output_type": "stream",
          "name": "stdout",
          "text": [
            "Imagen:\n",
            "(32, 32, 3)\n"
          ]
        }
      ]
    },
    {
      "cell_type": "code",
      "source": [
        "# Se transforma la imagen\n",
        "arr = arr/255\n",
        "image_transformed = arr.reshape(-1, 3072)\n",
        "print(image_transformed.shape)"
      ],
      "metadata": {
        "colab": {
          "base_uri": "https://localhost:8080/"
        },
        "id": "3o9kwo9yetX4",
        "outputId": "1e882cc7-bde1-45c0-d3b6-76c2d42ed270"
      },
      "execution_count": 22,
      "outputs": [
        {
          "output_type": "stream",
          "name": "stdout",
          "text": [
            "(1, 3072)\n"
          ]
        }
      ]
    },
    {
      "cell_type": "code",
      "source": [
        "print('Predicciones:')\n",
        "\n",
        "resultados = modelo_optimizado.predict(image_transformed)[0]\n",
        "print(resultados)\n",
        "maxElement = numpy.amax(resultados)\n",
        "print('certeza: ', str(round(maxElement*100, 4))+'%')\n",
        "result = numpy.where(resultados == numpy.amax(resultados))\n",
        "print('Max :', maxElement)\n",
        "#print('Returned tuple of arrays :', result)\n",
        "print('Lista de indices de máximo elemento :', result[0][0])\n",
        "index_sample_label=result[0][0]\n",
        "\n",
        "print(label_names)\n",
        "print('Etiqueta predicción: ', label_names[index_sample_label])\n",
        "\n",
        "\n",
        "plt.imshow(img)\n",
        "\n"
      ],
      "metadata": {
        "colab": {
          "base_uri": "https://localhost:8080/",
          "height": 591
        },
        "id": "m4pSr5bRf5bU",
        "outputId": "b341ad56-5d8e-4acf-fce6-fec945c4f0b2"
      },
      "execution_count": 24,
      "outputs": [
        {
          "output_type": "stream",
          "name": "stdout",
          "text": [
            "Predicciones:\n",
            "\u001b[1m1/1\u001b[0m \u001b[32m━━━━━━━━━━━━━━━━━━━━\u001b[0m\u001b[37m\u001b[0m \u001b[1m0s\u001b[0m 16ms/step\n",
            "[0 0 0 0 0 0 0 0 0 0]\n",
            "certeza:  23.509%\n",
            "Max : 0.2350896\n",
            "Lista de indices de máximo elemento : 9\n",
            "['airplane', 'automobile', 'bird', 'cat', 'deer', 'dog', 'frog', 'horse', 'ship', 'truck']\n",
            "Etiqueta predicción:  truck\n"
          ]
        },
        {
          "output_type": "execute_result",
          "data": {
            "text/plain": [
              "<matplotlib.image.AxesImage at 0x7e78dc51ad10>"
            ]
          },
          "metadata": {},
          "execution_count": 24
        },
        {
          "output_type": "display_data",
          "data": {
            "text/plain": [
              "<Figure size 640x480 with 1 Axes>"
            ],
            "image/png": "[encoded data removed]"
          },
          "metadata": {}
        }
      ]
    },
    {
      "cell_type": "markdown",
      "source": [
        "otro ejemplo de predicción con una imagen externa"
      ],
      "metadata": {
        "id": "MvkwJAR1higa"
      }
    },
    {
      "cell_type": "code",
      "source": [
        "print('Imagen:')\n",
        "img = Image.open('/content/drive/MyDrive/MachineLearning/Imagenes/auto_test2.png').convert('RGB')\n",
        "arr = np.array(img)\n",
        "print(arr.shape)"
      ],
      "metadata": {
        "colab": {
          "base_uri": "https://localhost:8080/"
        },
        "id": "hZMCzv5uhogI",
        "outputId": "d62c2447-fefb-4278-da99-b1c6e305b44a"
      },
      "execution_count": 26,
      "outputs": [
        {
          "output_type": "stream",
          "name": "stdout",
          "text": [
            "Imagen:\n",
            "(32, 32, 3)\n"
          ]
        }
      ]
    },
    {
      "cell_type": "code",
      "source": [
        "# Se transforma la imagen\n",
        "arr = arr/255\n",
        "image_transformed = arr.reshape(-1, 3072)\n",
        "print(image_transformed.shape)"
      ],
      "metadata": {
        "colab": {
          "base_uri": "https://localhost:8080/"
        },
        "id": "XLiSI_FOh2Qk",
        "outputId": "3838268e-09ab-4fa4-b445-e3291c05a9d1"
      },
      "execution_count": 27,
      "outputs": [
        {
          "output_type": "stream",
          "name": "stdout",
          "text": [
            "(1, 3072)\n"
          ]
        }
      ]
    },
    {
      "cell_type": "code",
      "source": [
        "print('Predicciones:')\n",
        "\n",
        "resultados = modelo_optimizado.predict(image_transformed)[0]\n",
        "print(resultados)\n",
        "maxElement = numpy.amax(resultados)\n",
        "print('certeza: ', str(round(maxElement*100, 4))+'%')\n",
        "result = numpy.where(resultados == numpy.amax(resultados))\n",
        "print('Max :', maxElement)\n",
        "#print('Returned tuple of arrays :', result)\n",
        "print('Lista de indices de máximo elemento :', result[0][0])\n",
        "index_sample_label=result[0][0]\n",
        "\n",
        "print(label_names)\n",
        "print('Etiqueta predicción: ', label_names[index_sample_label])\n",
        "\n",
        "\n",
        "plt.imshow(img)\n"
      ],
      "metadata": {
        "colab": {
          "base_uri": "https://localhost:8080/",
          "height": 591
        },
        "id": "YdupGfqJh575",
        "outputId": "81abf508-0cff-484d-944f-a2e51a470ef9"
      },
      "execution_count": 28,
      "outputs": [
        {
          "output_type": "stream",
          "name": "stdout",
          "text": [
            "Predicciones:\n",
            "\u001b[1m1/1\u001b[0m \u001b[32m━━━━━━━━━━━━━━━━━━━━\u001b[0m\u001b[37m\u001b[0m \u001b[1m0s\u001b[0m 15ms/step\n",
            "[0 1 0 0 0 0 0 0 0 0]\n",
            "certeza:  60.8685%\n",
            "Max : 0.6086846\n",
            "Lista de indices de máximo elemento : 1\n",
            "['airplane', 'automobile', 'bird', 'cat', 'deer', 'dog', 'frog', 'horse', 'ship', 'truck']\n",
            "Etiqueta predicción:  automobile\n"
          ]
        },
        {
          "output_type": "execute_result",
          "data": {
            "text/plain": [
              "<matplotlib.image.AxesImage at 0x7e7884173e50>"
            ]
          },
          "metadata": {},
          "execution_count": 28
        },
        {
          "output_type": "display_data",
          "data": {
            "text/plain": [
              "<Figure size 640x480 with 1 Axes>"
            ],
            "image/png": "[encoded data removed]"
          },
          "metadata": {}
        }
      ]
    },
    {
      "cell_type": "markdown",
      "source": [
        "### Comparación modelo base vs modelo optimizado\n",
        "\n",
        "Tabla 2. Comparación modelo base vs modelo optimizado, medidas de evaluación\n",
        "\n",
        "| Modelo | accuracy | precision | recall | f1-score |\n",
        "|--------|----------|-----------|--------|----------|\n",
        "|base    |  0.3197 | 0.3154| 0.3197|0.3195|\n",
        "|optimizado| 0.4261 | 0.4699 | 0.4261| 0.4469|"
      ],
      "metadata": {
        "id": "83bZ_K0Pi-Ni"
      }
    },
    {
      "cell_type": "markdown",
      "source": [
        "# Conclusiones\n",
        "\n",
        "Como se puede ver en las medidas de evaluación de la tabla 2, el modelo optimizado tiene mejor rendimiento en comparación con el modelo base. Debido a la falta de una CPU o GPU de alto rendimiento y también de tiempo no se puede encontrar mejores valores, aunque por los resultados se puede asumir que a un mayor número de epocas, batchsize , neuronas en la capa 1 y 2, se obtendrían mejores resultados. También está el hecho de que estamos usando una red neuronal densa la cual no es la mejor opción para tratar con imágenes, una mejor opción es la red neuronal convolucional. Para usar la red neuronal densa las imágenes tuvieron que ser transformadas, de una matriz de 3 canales (RGB), a un array de una dimensión.\n"
      ],
      "metadata": {
        "id": "PZtW_YVEiOZn"
      }
    },
    {
      "cell_type": "markdown",
      "source": [
        "# Referencias\n",
        "Jesús. (2020, July 1). ¿Qué es CIFAR-10? DataSmarts Español. https://datasmarts.net/es/que-es-cifar-10/\n",
        "\n",
        "Ortiz, I. R. H., PhD. (2023a, December 23). Deep Learning - Redes Neuronales Convolucionales (CNN) - Clasificación de Imágenes con CIFAR10 - GenSciNet. GenSciNet. https://genscinet.com/deep-learning-cnn-cifar10/\n",
        "\n",
        "Ortiz, I. R. H., PhD. (2023b, December 23). Preparación de datos: análisis exploratorio - GenSciNet. GenSciNet. https://genscinet.com/analisis-exploratorio/"
      ],
      "metadata": {
        "id": "l8FvQBAAiTPU"
      }
    }
  ]
}